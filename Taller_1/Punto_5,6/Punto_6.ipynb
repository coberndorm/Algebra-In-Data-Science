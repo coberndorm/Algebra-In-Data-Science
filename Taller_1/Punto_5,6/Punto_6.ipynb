{
 "cells": [
  {
   "cell_type": "code",
   "execution_count": 2,
   "metadata": {},
   "outputs": [],
   "source": [
    "import numpy as np"
   ]
  },
  {
   "cell_type": "code",
   "execution_count": 320,
   "metadata": {},
   "outputs": [],
   "source": [
    "def lp_matrix(x:np.ndarray, p=1) -> float:\n",
    "    if p == \"inf\":\n",
    "        return np.max(np.abs(x), axis = 1)\n",
    "    return np.sum(np.abs(x)**p, axis = 1)**(1/p)\n",
    "\n",
    "def lp_vector(x:np.ndarray, p=1) -> float:\n",
    "    if p == \"inf\":\n",
    "        return np.max(np.abs(x))\n",
    "    return np.sum(np.abs(x)**p)**(1/p)"
   ]
  },
  {
   "cell_type": "code",
   "execution_count": 326,
   "metadata": {},
   "outputs": [],
   "source": [
    "dimension = 3\n",
    "p = 1\n",
    "montecarlo = np.random.random((10000, dimension))\n",
    "for i in range(1,dimension+1):\n",
    "    montecarlo = np.vstack((montecarlo, np.array([0]*(i-1) + [1] + [0]*(dimension-i))))\n",
    "\n",
    "#normalize\n",
    "montecarlo_norm = montecarlo/lp_matrix(montecarlo, p).reshape(-1, 1)"
   ]
  },
  {
   "cell_type": "code",
   "execution_count": 327,
   "metadata": {},
   "outputs": [],
   "source": [
    "A = np.random.randint(-10, 10, (dimension, dimension))\n",
    "norm_induced = lp_matrix(np.dot(A, montecarlo_norm.T).T,p)"
   ]
  },
  {
   "cell_type": "code",
   "execution_count": 328,
   "metadata": {},
   "outputs": [
    {
     "data": {
      "text/plain": [
       "10002"
      ]
     },
     "execution_count": 328,
     "metadata": {},
     "output_type": "execute_result"
    }
   ],
   "source": [
    "idx = np.argmax(norm_induced)\n",
    "idx"
   ]
  },
  {
   "cell_type": "code",
   "execution_count": 329,
   "metadata": {},
   "outputs": [
    {
     "data": {
      "text/plain": [
       "15.0"
      ]
     },
     "execution_count": 329,
     "metadata": {},
     "output_type": "execute_result"
    }
   ],
   "source": [
    "lp_vector(np.dot(A,montecarlo_norm[idx,:]),p)"
   ]
  },
  {
   "cell_type": "code",
   "execution_count": 334,
   "metadata": {},
   "outputs": [
    {
     "name": "stdout",
     "output_type": "stream",
     "text": [
      "15.0\n"
     ]
    }
   ],
   "source": [
    "if p != \"inf\":\n",
    "    print(np.linalg.norm(A, ord=p))\n",
    "else:\n",
    "    print(np.linalg.norm(A, ord=np.inf))"
   ]
  }
 ],
 "metadata": {
  "kernelspec": {
   "display_name": ".venv",
   "language": "python",
   "name": "python3"
  },
  "language_info": {
   "codemirror_mode": {
    "name": "ipython",
    "version": 3
   },
   "file_extension": ".py",
   "mimetype": "text/x-python",
   "name": "python",
   "nbconvert_exporter": "python",
   "pygments_lexer": "ipython3",
   "version": "3.10.12"
  },
  "orig_nbformat": 4
 },
 "nbformat": 4,
 "nbformat_minor": 2
}
