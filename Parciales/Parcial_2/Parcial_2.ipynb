{
 "cells": [
  {
   "cell_type": "markdown",
   "metadata": {},
   "source": [
    "# Parcial 2 Camilo Oberndorfer"
   ]
  },
  {
   "cell_type": "markdown",
   "metadata": {},
   "source": [
    "\n",
    "# Problema 1\n",
    "Sea A una matriz de tamaño $ m \\times n$ con rango de $A$ igual a $n$. Entonces $A^TA$ es una matriz simetrica e invertible."
   ]
  },
  {
   "cell_type": "markdown",
   "metadata": {},
   "source": [
    "$\\textbf{Simetria}:$\n",
    "\n",
    "Para demostrar la simetria se tiene que demostrar que la transpuesta es igual a la original, por tanto hay que demostrar $(A^TA)^T = A^TA$.\n",
    "\n",
    "Primero hay que notar que es cuadrada, esto se ve porque $A^T$ es de tamaño ($n \\times m$) por lo que A^TA es de tamaño ($n \\times m$)($m \\times n$) = ($n \\times n$)\n",
    "$$(A^TA)^T = A^T A^{T^T} = A^TA$$\n",
    "Por tanto $A^TA$ es simetrica"
   ]
  },
  {
   "cell_type": "markdown",
   "metadata": {},
   "source": [
    "$\\textbf{Invertibilidad}:$\n",
    "\n",
    "Como A es de tamaño ($n \\times m$) y tiene rango $n$ se puede hacer decomposision $QR$ con $R$ de tamaño ($n \\times n$).\n",
    "$$A^TA = (QR)^TQR = R^TQ^TQR = R^T(Q^TQ)R = R^TR$$\n",
    "\n",
    "Recordar que $Q^TQ = I$ al Q ser ortogonal. \n",
    "\n",
    "Luego por la forma en la definicion de $R$ se sabe que esta es invertible, al igual que su transpuesta $R^T$. Por tanto tenemos que $R^TR$ es invertible. \n",
    "\n",
    "Concluimos que $A^TA$ es invertible."
   ]
  },
  {
   "cell_type": "markdown",
   "metadata": {},
   "source": [
    "# Problema 2\n",
    "Sea $A_n$ una matriz de la siguiente forma:\n",
    "$$A_n=\n",
    "\\begin{bmatrix}\n",
    "1 & 1^2 & 1^3 & \\dots & 1^n\\\\\n",
    "2 & 2^2 & 2^3 & \\dots & 2^n \\\\\n",
    "3 & 3^2 & 3^3 & \\dots & 3^n \\\\\n",
    "\\vdots & \\vdots & \\vdots & \\ddots \\\\\n",
    "n & n^2 & n^3 & \\dots & n^n\n",
    "\\end{bmatrix}$$\n",
    "calcular la condicion $A_n$ y plottearla como funcion de n"
   ]
  },
  {
   "cell_type": "code",
   "execution_count": 9,
   "metadata": {},
   "outputs": [],
   "source": [
    "import numpy as np\n",
    "import matplotlib.pyplot as plt"
   ]
  },
  {
   "cell_type": "code",
   "execution_count": 13,
   "metadata": {},
   "outputs": [],
   "source": [
    "def An_estimated_condition_num(dim):\n",
    "    #Norma de frobenius\n",
    "    frob = lambda A: np.trace(np.dot(A.T,A))**(1/2)\n",
    "\n",
    "    #Matriz de Hilbert de orden n\n",
    "    A = np.array([[i**j for j in range(1,dim+1)] for i in range(1,dim+1)])\n",
    "    A_inv = np.linalg.inv(A)\n",
    "\n",
    "    condition_num = frob(A)*frob(A_inv)\n",
    "\n",
    "    return condition_num"
   ]
  },
  {
   "cell_type": "code",
   "execution_count": 52,
   "metadata": {},
   "outputs": [
    {
     "data": {
      "text/plain": [
       "Text(0, 0.5, 'Condition Number')"
      ]
     },
     "execution_count": 52,
     "metadata": {},
     "output_type": "execute_result"
    },
    {
     "data": {
      "image/png": "[encoded data removed]",
      "text/plain": [
       "<Figure size 640x480 with 1 Axes>"
      ]
     },
     "metadata": {},
     "output_type": "display_data"
    }
   ],
   "source": [
    "n=11\n",
    "cond_num = [An_estimated_condition_num(i) for i in range(2,n)]\n",
    "x_axis = list(range(2,n))\n",
    "plt.plot(x_axis,cond_num)\n",
    "plt.xlabel(\"n\"); plt.ylabel(\"Condition Number\")"
   ]
  },
  {
   "cell_type": "markdown",
   "metadata": {},
   "source": [
    "Se ve que la matriz esta mal condicionada y que esta mal condicion aumenta cada vez mas a medida que $n$ crece. Esto se puede entender como que a mayor $n$ mas duro sera resolver un sistema de ecuaciones tomando a esta matriz como base. Tambien se nota que a medida que n crece calcularle la inversa cada vez va a ser mas dificil y menos precisa, dada a la inestabilidad que aperece en que pequeños errores (ya sea de redondeo o de otro tipo) o perturbaciones a la matriz le pueden causargrandes errores.\n",
    "\n",
    "Principalmente se va a observar que al trabajar con esta matriz va a haber mucha inestabilidad al momento de realizar algun algoritmo."
   ]
  }
 ],
 "metadata": {
  "kernelspec": {
   "display_name": ".venv",
   "language": "python",
   "name": "python3"
  },
  "language_info": {
   "codemirror_mode": {
    "name": "ipython",
    "version": 3
   },
   "file_extension": ".py",
   "mimetype": "text/x-python",
   "name": "python",
   "nbconvert_exporter": "python",
   "pygments_lexer": "ipython3",
   "version": "3.10.12"
  }
 },
 "nbformat": 4,
 "nbformat_minor": 2
}
