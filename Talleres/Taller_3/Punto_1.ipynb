{
 "cells": [
  {
   "cell_type": "code",
   "execution_count": 19,
   "metadata": {},
   "outputs": [],
   "source": [
    "import numpy as np"
   ]
  },
  {
   "cell_type": "code",
   "execution_count": 20,
   "metadata": {},
   "outputs": [],
   "source": [
    "def power_method(A, x=None, n=100, tolerance=0.001):\n",
    "    \"\"\"\n",
    "    A: Matriz de entrada\n",
    "    x: Vector inicial\n",
    "    n: Numero de iteraciones\n",
    "    tolerance: Tolerancia\n",
    "    \"\"\"\n",
    "    k = 0\n",
    "    if x is None:\n",
    "        x = np.ones(A.shape[1])    \n",
    "\n",
    "    while k < n and np.linalg.norm( np.dot(A,x) - x) > tolerance:\n",
    "        x = np.dot(A,x)\n",
    "        x = x/np.linalg.norm(x)\n",
    "        k += 1\n",
    "\n",
    "    return x"
   ]
  },
  {
   "cell_type": "code",
   "execution_count": 21,
   "metadata": {},
   "outputs": [],
   "source": [
    "def power_inverse_method(A, x=None, n=100, tolerance=0.001):\n",
    "    \"\"\"\n",
    "    A: Matriz de entrada\n",
    "    x: Vector inicial\n",
    "    n: Numero de iteraciones\n",
    "    tolerance: Tolerancia\n",
    "    \"\"\"\n",
    "    k = 0\n",
    "    if x is None:\n",
    "        x = np.ones(A.shape[1])    \n",
    "    A_inv = np.linalg.inv(A)\n",
    "\n",
    "    while k < n and np.linalg.norm( np.dot(A,x) - x) > tolerance:\n",
    "        x = np.dot(A_inv,x)\n",
    "        x = x/np.linalg.norm(x)\n",
    "        k += 1\n",
    "\n",
    "    return x"
   ]
  },
  {
   "cell_type": "code",
   "execution_count": 89,
   "metadata": {},
   "outputs": [],
   "source": [
    "import scipy.linalg as sla\n",
    "\n",
    "def shifted_power_inverse_method(A, mu, x=None, n=100, tolerance=0.001):\n",
    "    \"\"\"\n",
    "    A: Matriz de entrada\n",
    "    x: Vector inicial\n",
    "    n: Numero de iteraciones\n",
    "    tolerance: Tolerancia\n",
    "    \"\"\"\n",
    "\n",
    "    k = 0\n",
    "    if x is None:\n",
    "        x = np.ones(A.shape[1])\n",
    "        \n",
    "    A = A - mu*np.eye(A.shape[0])   \n",
    "    LU_factorization = sla.lu_factor(A)\n",
    "\n",
    "    while k < n and np.linalg.norm( np.dot(A,x) - x) > tolerance:\n",
    "        x = sla.lu_solve(LU_factorization,x)\n",
    "        x = x/np.linalg.norm(x)\n",
    "        k += 1\n",
    "\n",
    "    return x"
   ]
  },
  {
   "cell_type": "markdown",
   "metadata": {},
   "source": [
    "## Exercise 1:\n",
    "Let A be the matrix from the Inverse Power Method example.\n",
    "$$A=\\begin{bmatrix}\n",
    "9&-1&-3\\\\\n",
    "0&6&0 \\\\\n",
    "-6&3&6\n",
    "\\end{bmatrix}$$\n"
   ]
  },
  {
   "cell_type": "code",
   "execution_count": 90,
   "metadata": {},
   "outputs": [],
   "source": [
    "A = np.array([[9,-1,-3],\n",
    "              [0,6,0],\n",
    "              [-6,3,6]])"
   ]
  },
  {
   "cell_type": "markdown",
   "metadata": {},
   "source": [
    "(a) Use the Power Method to approximate the largest eigenvalue $λ_1$. Verify that the exact value of $λ_1$ is 12.\n"
   ]
  },
  {
   "cell_type": "code",
   "execution_count": 91,
   "metadata": {},
   "outputs": [
    {
     "name": "stdout",
     "output_type": "stream",
     "text": [
      "Eigenvector is approximately:\n",
      "[ 0.71  0.   -0.71] \n",
      "\n",
      "Magnitude of the eigenvalue is approximately:\n",
      "12 \n",
      "\n",
      "Magnitude of the difference is:\n",
      "[ 7.77817459e+00  5.02028006e-29 -7.77817459e+00]\n"
     ]
    }
   ],
   "source": [
    "X = power_method(A, n=100, tolerance=0.0001)\n",
    "\n",
    "print(\"Eigenvector is approximately:\")\n",
    "print(np.round(X,2),'\\n')\n",
    "print(\"Magnitude of the eigenvalue is approximately:\")\n",
    "print(round(np.linalg.norm(np.dot(A,X))),'\\n')\n",
    "print(\"Magnitude of the difference is:\")\n",
    "print( np.dot(A,X) - X)"
   ]
  },
  {
   "cell_type": "code",
   "execution_count": 92,
   "metadata": {},
   "outputs": [
    {
     "name": "stdout",
     "output_type": "stream",
     "text": [
      "Largest Eigenvalue actual value: 12.0\n",
      "Largest Eigenvector actual value: [ 0.70710678  0.         -0.70710678]\n"
     ]
    }
   ],
   "source": [
    "print(\"Largest Eigenvalue actual value:\", np.linalg.eig(A).eigenvalues[0])\n",
    "print(\"Largest Eigenvector actual value:\", np.linalg.eig(A).eigenvectors[:,0])"
   ]
  },
  {
   "cell_type": "markdown",
   "metadata": {},
   "source": [
    "(b) Apply the Inverse Power Method with a shift of $μ=10$. Explain why the results differ from those in the example.\n"
   ]
  },
  {
   "cell_type": "code",
   "execution_count": 93,
   "metadata": {},
   "outputs": [
    {
     "name": "stdout",
     "output_type": "stream",
     "text": [
      "Eigenvector is approximately:\n",
      "[ 0.71  0.   -0.71] \n",
      "\n",
      "Magnitude of the eigenvalue is approximately:\n",
      "12 \n",
      "\n",
      "Magnitude of the difference is:\n",
      "[ 7.77817459e+00  5.02028006e-29 -7.77817459e+00]\n"
     ]
    }
   ],
   "source": [
    "X = shifted_power_inverse_method(A, mu=10, n=100, tolerance=0.0001)\n",
    "\n",
    "print(\"Eigenvector is approximately:\")\n",
    "print(np.round(X,2),'\\n')\n",
    "print(\"Magnitude of the eigenvalue is approximately:\")\n",
    "print(round(np.linalg.norm(np.dot(A,X))),'\\n')\n",
    "print(\"Magnitude of the difference is:\")\n",
    "print( np.dot(A,X) - X)"
   ]
  },
  {
   "cell_type": "markdown",
   "metadata": {},
   "source": [
    "(c) Apply the Inverse Power Method with a shift of $μ=7.5$ and the initial vector given below. Explain why the sequence of vectors approach the eigenvector corresponding to $λ_1$"
   ]
  },
  {
   "cell_type": "code",
   "execution_count": 128,
   "metadata": {},
   "outputs": [
    {
     "name": "stdout",
     "output_type": "stream",
     "text": [
      "Eigenvector is approximately:\n",
      "[ 1. -0. -0.] \n",
      "\n",
      "Magnitude of the eigenvalue is approximately:\n",
      "11 \n",
      "\n",
      "Magnitude of the difference is:\n",
      "[ 8.  0. -6.]\n"
     ]
    }
   ],
   "source": [
    "X = np.array([1,0,0])\n",
    "X = shifted_power_inverse_method(A, mu=7.5, x = X, n=10000, tolerance=0.0001)\n",
    "\n",
    "print(\"Eigenvector is approximately:\")\n",
    "print(np.round(X,2),'\\n')\n",
    "print(\"Magnitude of the eigenvalue is approximately:\")\n",
    "print(round(np.linalg.norm(np.dot(A,X))),'\\n')\n",
    "print(\"Magnitude of the difference is:\")\n",
    "print( np.dot(A,X) - X)"
   ]
  },
  {
   "cell_type": "markdown",
   "metadata": {},
   "source": [
    "## Exercise 2: \n",
    "Let B be the following matrix.$$\n",
    "B=\n",
    "\\begin{bmatrix}\n",
    "-2& -18 &6\\\\\n",
    "-11& 3 & 11\\\\\n",
    "-27&15&31\n",
    "\\end{bmatrix}$$"
   ]
  },
  {
   "cell_type": "markdown",
   "metadata": {},
   "source": [
    "\n",
    "(a) Apply the Power Method and Inverse Power Method with shifts to approximate all eigenvalues of the matrix B. (Note that one of the eigenvalues of this matrix is negative.)\n"
   ]
  },
  {
   "cell_type": "code",
   "execution_count": 117,
   "metadata": {},
   "outputs": [
    {
     "name": "stdout",
     "output_type": "stream",
     "text": [
      "Largest Eigenvalue:  36 \n",
      "\n",
      "Smalest Eigenvalue:  4 \n",
      "\n",
      "Other Eigenvalue:  -8 \n",
      "\n"
     ]
    }
   ],
   "source": [
    "B = np.array([[-2,-18,6],\n",
    "              [-11,3,11],\n",
    "              [-27,15,31]])\n",
    "\n",
    "X = power_method(B, n=100, tolerance=0.0001)\n",
    "\n",
    "print(\"Largest Eigenvalue: \", round(np.linalg.norm(np.dot(B,X))),'\\n')\n",
    "\n",
    "X = power_inverse_method(B, n=100, tolerance=0.0001)\n",
    "\n",
    "print(\"Smalest Eigenvalue: \", round(np.linalg.norm(np.dot(B,X))),'\\n')\n",
    "\n",
    "X = shifted_power_inverse_method(B, mu=-10, n=100, tolerance=0.0001)\n",
    "\n",
    "print(\"Other Eigenvalue: \", -round(np.linalg.norm(np.dot(B,X))),'\\n')\n"
   ]
  },
  {
   "cell_type": "markdown",
   "metadata": {},
   "source": [
    "(b) Check your results using the eig function in SciPy."
   ]
  },
  {
   "cell_type": "code",
   "execution_count": 120,
   "metadata": {},
   "outputs": [
    {
     "name": "stdout",
     "output_type": "stream",
     "text": [
      "[36.+0.j -8.+0.j  4.+0.j]\n"
     ]
    }
   ],
   "source": [
    "import scipy\n",
    "print(\"Autovalores reales: \", scipy.linalg.eig(B)[0])"
   ]
  }
 ],
 "metadata": {
  "kernelspec": {
   "display_name": ".venv",
   "language": "python",
   "name": "python3"
  },
  "language_info": {
   "codemirror_mode": {
    "name": "ipython",
    "version": 3
   },
   "file_extension": ".py",
   "mimetype": "text/x-python",
   "name": "python",
   "nbconvert_exporter": "python",
   "pygments_lexer": "ipython3",
   "version": "3.10.12"
  }
 },
 "nbformat": 4,
 "nbformat_minor": 2
}
