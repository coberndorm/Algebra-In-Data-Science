{
 "cells": [
  {
   "cell_type": "markdown",
   "metadata": {},
   "source": [
    "1) Implemente un algoritmo para calcular la factorización $Q R$ de una matríz basando en el proceso de ortogonalización de Grahm-Schmidt. El algoritmo debe recibir una matriz $A$ de tamaño $m \\times n$ con $m \\geq n$ y retornar una matriz $Q$ de tamaño $m \\times n$ y una matriz triangular superior $R$ de tamaño $n \\times n$, tales que $Q^t Q=I_n$ y $A=Q R$. Compare los resultados de su algoritmo con los de la función scipy.linalg.qr SciPy Manual."
   ]
  },
  {
   "cell_type": "code",
   "execution_count": 2,
   "metadata": {},
   "outputs": [],
   "source": [
    "from sklearn import datasets\n",
    "import pandas as pd\n",
    "import numpy as np\n",
    "import matplotlib.pyplot as plt\n",
    "\n",
    "\n",
    "iris = datasets.load_iris()\n",
    "data = iris.data\n",
    "\n"
   ]
  },
  {
   "cell_type": "code",
   "execution_count": 3,
   "metadata": {},
   "outputs": [],
   "source": [
    "# Función para calcular la norma \\(p\\) de un vector \\(x\\)\n",
    "def lp(x: np.ndarray, p=1) -> float:\n",
    "    if p == \"inf\":\n",
    "        return np.max(np.abs(x))\n",
    "    return np.sum(np.abs(x)**p)**(1/p)\n",
    "\n",
    "# Función para realizar la factorizacion QR\n",
    "def qr_normalization(A):\n",
    "    n,m = A.shape\n",
    "    transpose = False\n",
    "    if n>m: \n",
    "        A = A.T\n",
    "        n,m = A.shape\n",
    "        transpose = True\n",
    "\n",
    "    Q = []\n",
    "\n",
    "    for i in range(n):\n",
    "        omega_i = A[i]\n",
    "        for q_i in Q:\n",
    "            omega_i = omega_i - np.dot(np.dot(A[i], q_i), q_i)\n",
    "        \n",
    "        Q.append(omega_i/lp(omega_i, 2))\n",
    "\n",
    "    R = np.zeros((n,n))\n",
    "    for i in range(n):\n",
    "        for j in range(i,n):\n",
    "            R[i,j] = np.dot(A[j],Q[i])\n",
    "\n",
    "    if transpose: \n",
    "        Q = np.array(Q).T\n",
    "    else:\n",
    "        Q = np.array(Q) \n",
    "    \n",
    "    return Q,R"
   ]
  },
  {
   "cell_type": "code",
   "execution_count": 12,
   "metadata": {},
   "outputs": [
    {
     "name": "stdout",
     "output_type": "stream",
     "text": [
      "Matriz Q calculada por metodo Propio: \n",
      " [[ 0.4472136   0.36514837 -0.40824829]\n",
      " [ 0.4472136  -0.54772256  0.        ]\n",
      " [ 0.4472136   0.36514837  0.81649658]\n",
      " [ 0.4472136  -0.54772256  0.        ]\n",
      " [ 0.4472136   0.36514837 -0.40824829]]\n",
      "Matriz Q calcluada de numpy: \n",
      " [[-0.4472  0.3651  0.4082]\n",
      " [-0.4472 -0.5477 -0.    ]\n",
      " [-0.4472  0.3651 -0.8165]\n",
      " [-0.4472 -0.5477 -0.    ]\n",
      " [-0.4472  0.3651  0.4082]]\n"
     ]
    }
   ],
   "source": [
    "A = np.array([[3,2,-1],\n",
    "              [3,-2,0],\n",
    "              [3,2,1],\n",
    "              [3,-2,0],\n",
    "              [3,2,-1]])\n",
    "\n",
    "Q,R = qr_normalization(A)  \n",
    "print(\"Matriz Q calculada por metodo Propio: \\n\", Q)\n",
    "\n",
    "#Comparacion con numpy para comprobar que la función está bien implementada\n",
    "print(\"Matriz Q calcluada de numpy: \\n\", np.round(np.linalg.qr(A)[0],4))"
   ]
  },
  {
   "cell_type": "markdown",
   "metadata": {},
   "source": [
    "Revisando si se puede reobtener un dataset despues de haccerle normalizacion QR"
   ]
  },
  {
   "cell_type": "code",
   "execution_count": 6,
   "metadata": {},
   "outputs": [
    {
     "name": "stdout",
     "output_type": "stream",
     "text": [
      "Matriz R calculada por metodo Propio: \n",
      " [[ 72.27620632  36.98907477  48.20064828  15.60873291]\n",
      " [  0.           7.88722685 -13.76876634  -5.76407773]\n",
      " [  0.           0.           8.3563496    4.47500611]\n",
      " [  0.           0.           0.           2.33392057]]\n",
      "Matriz R calcluada de numpy: \n",
      " [[-72.27620632 -36.98907477 -48.20064828 -15.60873291]\n",
      " [  0.          -7.88722685  13.76876634   5.76407773]\n",
      " [  0.           0.           8.3563496    4.47500611]\n",
      " [  0.           0.           0.           2.33392057]]\n"
     ]
    }
   ],
   "source": [
    "Q,R = qr_normalization(data)\n",
    "print(\"Matriz R calculada por metodo Propio: \\n\", R)\n",
    "\n",
    "#Comparacion con numpy para comprobar que la función está bien implementada\n",
    "print(\"Matriz R calcluada de numpy: \\n\", np.linalg.qr(data)[1])"
   ]
  },
  {
   "cell_type": "code",
   "execution_count": 9,
   "metadata": {},
   "outputs": [
    {
     "name": "stdout",
     "output_type": "stream",
     "text": [
      "Matriz Q*R: \n",
      " [[5.1 3.5 1.4 0.2]\n",
      " [4.9 3.  1.4 0.2]\n",
      " [4.7 3.2 1.3 0.2]\n",
      " [4.6 3.1 1.5 0.2]\n",
      " [5.  3.6 1.4 0.2]]\n",
      "Datos reales: \n",
      " [[5.1 3.5 1.4 0.2]\n",
      " [4.9 3.  1.4 0.2]\n",
      " [4.7 3.2 1.3 0.2]\n",
      " [4.6 3.1 1.5 0.2]\n",
      " [5.  3.6 1.4 0.2]]\n"
     ]
    }
   ],
   "source": [
    "datos = np.dot(Q,R)\n",
    "print(\"Matriz Q*R: \\n\", datos[0:5])\n",
    "print(\"Datos reales: \\n\", data[0:5])"
   ]
  },
  {
   "cell_type": "markdown",
   "metadata": {},
   "source": [
    "2) ¿Que pasa con la factorización QR cuando las columnas son linealmente dependientes?"
   ]
  },
  {
   "cell_type": "code",
   "execution_count": 28,
   "metadata": {},
   "outputs": [
    {
     "name": "stdout",
     "output_type": "stream",
     "text": [
      "Rango de la matriz:  3\n",
      "Espacio columna de la matriz:  3\n",
      "Matriz Q calculada: \n",
      " [[ 0.6804  0.5443  0.4082  0.2722]\n",
      " [-0.5379 -0.0316  0.4746  0.696 ]\n",
      " [ 0.2847 -0.1898 -0.6644  0.6644]\n",
      " [ 0.2596 -0.1911 -0.6418  0.6958]]\n",
      "Matriz R calculada: \n",
      " [[ 7.3485  5.7155  7.6206 14.6969]\n",
      " [ 0.      3.5119  4.113  -0.    ]\n",
      " [ 0.      0.      0.0949 -0.    ]\n",
      " [ 0.      0.      0.     -0.    ]]\n"
     ]
    }
   ],
   "source": [
    "A = np.array([[5,4,3,2],\n",
    "              [2,3,4,4],\n",
    "              [3,4,5,5],\n",
    "              [10,8,6,4]] )\n",
    "\n",
    "print(\"Rango de la matriz: \", np.linalg.matrix_rank(A))\n",
    "print(\"Espacio columna de la matriz: \", np.linalg.matrix_rank(A.T))\n",
    "Q,R = qr_normalization(A)  \n",
    "print(\"Matriz Q calculada: \\n\", np.round(Q,4))\n",
    "print(\"Matriz R calculada: \\n\", np.round(R,4))"
   ]
  },
  {
   "cell_type": "code",
   "execution_count": 26,
   "metadata": {},
   "outputs": [
    {
     "name": "stdout",
     "output_type": "stream",
     "text": [
      "Matriz Q calculada: \n",
      " [[ 1.  0.  0.  0.]\n",
      " [ 0.  1.  0.  0.]\n",
      " [ 0.  0.  1.  0.]\n",
      " [nan nan nan nan]]\n",
      "Matriz R calculada: \n",
      " [[ 1.  0.  0.  0.]\n",
      " [ 0.  1.  0.  0.]\n",
      " [ 0.  0.  1.  0.]\n",
      " [ 0.  0.  0. nan]]\n"
     ]
    },
    {
     "name": "stderr",
     "output_type": "stream",
     "text": [
      "/tmp/ipykernel_36895/4014777140.py:23: RuntimeWarning: invalid value encountered in divide\n",
      "  Q.append(omega_i/lp(omega_i, 2))\n"
     ]
    }
   ],
   "source": [
    "#caso 2\n",
    "A = np.array([[1,0,0,0],\n",
    "              [0,1,0,0],\n",
    "              [0,0,1,0],\n",
    "              [0,0,0,0]])\n",
    "\n",
    "Q,R = qr_normalization(A)  \n",
    "print(\"Matriz Q calculada: \\n\", np.round(Q,4))\n",
    "print(\"Matriz R calculada: \\n\", np.round(R,4))"
   ]
  },
  {
   "cell_type": "markdown",
   "metadata": {},
   "source": [
    "Aunque no en todos los casos, como se vio en el caso 1 que aunque fuera una matris $4\\times 4$ y de rango 3, la matriz $R$ era de rango 4, y se pudo calcular exitosamente. Sin embargo en el caso 2 no se pudo realizar directamente la factorizacion QR, se observa como fallo el proceso al momento de intentar calcularla.\n",
    "\n",
    "Si una matriz tiene columnas linealmente dependientes, es decir, si una o más columnas pueden expresarse como combinaciones lineales de las demás, entonces no se puede encontrar una factorización QR única. La razón detrás de esto es que en la matriz triangular superior (R) resultante, habrá elementos en la diagonal principal que son iguales a cero. Esto se debe a que una de las columnas dependientes linealmente puede expresarse como una combinación lineal de las demás, y esto se refleja en R como un elemento nulo en la diagonal."
   ]
  },
  {
   "cell_type": "markdown",
   "metadata": {},
   "source": [
    "\n",
    "\n",
    "\n",
    "\n",
    "3) Averigüe bajo cuales condiciones la factorización $Q R$ es única."
   ]
  },
  {
   "cell_type": "markdown",
   "metadata": {},
   "source": [
    "Sea A una matriz de $m\\times n$ si A tiene n columnas independientes entonces la factorizacion es unica. Tambien si A es de tamaño $n \\times n$ y es invertible tendra una unica factorización."
   ]
  }
 ],
 "metadata": {
  "kernelspec": {
   "display_name": ".venv",
   "language": "python",
   "name": "python3"
  },
  "language_info": {
   "codemirror_mode": {
    "name": "ipython",
    "version": 3
   },
   "file_extension": ".py",
   "mimetype": "text/x-python",
   "name": "python",
   "nbconvert_exporter": "python",
   "pygments_lexer": "ipython3",
   "version": "3.10.12"
  }
 },
 "nbformat": 4,
 "nbformat_minor": 2
}
