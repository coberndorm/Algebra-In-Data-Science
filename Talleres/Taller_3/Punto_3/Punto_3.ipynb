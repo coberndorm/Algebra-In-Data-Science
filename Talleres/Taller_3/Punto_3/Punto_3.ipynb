{
 "cells": [
  {
   "cell_type": "code",
   "execution_count": 5,
   "metadata": {},
   "outputs": [],
   "source": [
    "import nltk\n",
    "from nltk.corpus import stopwords\n",
    "from nltk.stem import PorterStemmer\n",
    "from nltk.stem import WordNetLemmatizer\n",
    "from sklearn.feature_extraction.text import CountVectorizer\n",
    "from nltk.tokenize import RegexpTokenizer\n",
    "import numpy as np\n",
    "import pandas as pd\n",
    "import docx"
   ]
  },
  {
   "cell_type": "code",
   "execution_count": 2,
   "metadata": {},
   "outputs": [
    {
     "name": "stdout",
     "output_type": "stream",
     "text": [
      "Numero de documentos: 491\n"
     ]
    }
   ],
   "source": [
    "# Abre el documento de Word\n",
    "doc_ciencia = docx.Document(\"ExportacionWordCREA_Ciencia.doc\")\n",
    "doc_deporte = docx.Document(\"ExportacionWordCREA_Deporte.doc\")\n",
    "doc_viaje = docx.Document(\"ExportacionWordCREA_Viaje.doc\")\n",
    "\n",
    "archivos = [doc_ciencia, doc_deporte, doc_viaje]\n",
    "\n",
    "# Inicializa listas para los títulos y textos\n",
    "titulos = []\n",
    "documentos = []\n",
    "\n",
    "# Inicializa una bandera para determinar si estamos en una sección de título o texto\n",
    "en_titulo = True\n",
    "\n",
    "# Recorre el contenido del documento\n",
    "for doc in archivos:\n",
    "    for paragraph in doc.paragraphs[2:]:\n",
    "        if paragraph.text:  # Verifica si el párrafo no está vacío\n",
    "            if en_titulo:\n",
    "                titulos.append(paragraph.text)\n",
    "            else:\n",
    "                documentos.append(paragraph.text)\n",
    "            # Cambia la bandera en_titulo en cada iteración\n",
    "            en_titulo = not en_titulo\n",
    "\n",
    "print(f\"Numero de documentos: {len(documentos)}\")"
   ]
  },
  {
   "cell_type": "code",
   "execution_count": 11,
   "metadata": {},
   "outputs": [
    {
     "name": "stdout",
     "output_type": "stream",
     "text": [
      "            0    1    2    3    4    5    6    7    8    9    ...  481  482   \n",
      "aa            0    0    0    0    0    0    0    0    0    0  ...    0    0  \\\n",
      "abajo         0    0    0    0    0    0    0    0    0    0  ...    0    0   \n",
      "abandonaba    0    0    0    0    0    0    0    0    0    0  ...    0    0   \n",
      "abandonado    0    0    0    0    0    0    0    0    0    0  ...    0    0   \n",
      "abandonan     0    0    0    0    0    0    0    0    0    0  ...    0    0   \n",
      "...         ...  ...  ...  ...  ...  ...  ...  ...  ...  ...  ...  ...  ...   \n",
      "último        0    0    0    0    0    0    0    0    0    0  ...    0    0   \n",
      "única         0    0    0    0    0    0    0    0    0    0  ...    0    0   \n",
      "únicament     0    0    0    0    0    0    0    0    0    0  ...    0    0   \n",
      "único         0    0    0    0    0    0    0    0    0    0  ...    1    0   \n",
      "útil          0    0    0    0    0    0    0    0    0    0  ...    0    0   \n",
      "\n",
      "            483  484  485  486  487  488  489  490  \n",
      "aa            0    0    0    0    0    0    0    0  \n",
      "abajo         0    0    0    0    0    0    0    0  \n",
      "abandonaba    0    0    0    0    0    0    0    0  \n",
      "abandonado    0    0    0    0    0    0    0    0  \n",
      "abandonan     0    0    0    0    0    0    0    0  \n",
      "...         ...  ...  ...  ...  ...  ...  ...  ...  \n",
      "último        0    0    0    0    0    0    0    0  \n",
      "única         0    0    0    0    0    0    1    0  \n",
      "únicament     0    0    0    0    0    0    0    0  \n",
      "único         0    0    0    0    0    0    0    0  \n",
      "útil          0    0    0    0    0    0    0    0  \n",
      "\n",
      "[7473 rows x 491 columns]\n"
     ]
    }
   ],
   "source": [
    "#nltk.download('stopwords')\n",
    "#nltk.download('wordnet')\n",
    "\n",
    "# Definir las funciones de preprocesamiento\n",
    "def preprocess_text(text):\n",
    "    # Tokenización personalizada para mantener solo palabras (sin números ni signos de puntuación)\n",
    "    tokenizer = RegexpTokenizer(r'\\b[^\\d\\W]+\\b')\n",
    "    words = tokenizer.tokenize(text)\n",
    "    \n",
    "    # Eliminación de stopwords\n",
    "    stop_words = set(stopwords.words('spanish'))  # Cambia 'spanish' por tu idioma\n",
    "    words = [word for word in words if word.lower() not in stop_words]\n",
    "    \n",
    "    # Stemming\n",
    "    stemmer = PorterStemmer()\n",
    "    words = [stemmer.stem(word) for word in words]\n",
    "    \n",
    "    # Lematización\n",
    "    lemmatizer = WordNetLemmatizer()\n",
    "    words = [lemmatizer.lemmatize(word) for word in words]\n",
    "    \n",
    "    return ' '.join(words)\n",
    "\n",
    "# Create a CountVectorizer with custom preprocessing\n",
    "count_vectorizer = CountVectorizer(preprocessor=preprocess_text)\n",
    "\n",
    "# Fit and transform the documents using the vectorizer\n",
    "count_matrix = np.transpose(count_vectorizer.fit_transform(documentos))\n",
    "\n",
    "# Convert the term frequency matrix to a Pandas DataFrame\n",
    "term_frequency_df = pd.DataFrame(count_matrix.toarray(), index=count_vectorizer.get_feature_names_out())\n",
    "\n",
    "\n",
    "# Imprimir la matriz de frecuencia de términos preprocesada\n",
    "term_frequency_df.to_excel('frecuencia_terminos.xlsx')\n",
    "print(term_frequency_df)\n",
    "\n"
   ]
  }
 ],
 "metadata": {
  "kernelspec": {
   "display_name": "Python 3",
   "language": "python",
   "name": "python3"
  },
  "language_info": {
   "codemirror_mode": {
    "name": "ipython",
    "version": 3
   },
   "file_extension": ".py",
   "mimetype": "text/x-python",
   "name": "python",
   "nbconvert_exporter": "python",
   "pygments_lexer": "ipython3",
   "version": "3.10.7"
  },
  "orig_nbformat": 4
 },
 "nbformat": 4,
 "nbformat_minor": 2
}
