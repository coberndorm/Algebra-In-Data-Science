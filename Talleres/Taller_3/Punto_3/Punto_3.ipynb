{
 "cells": [
  {
   "cell_type": "code",
   "execution_count": 22,
   "metadata": {},
   "outputs": [],
   "source": [
    "from nltk.corpus import stopwords\n",
    "from nltk.stem import PorterStemmer\n",
    "from nltk.stem import WordNetLemmatizer\n",
    "from nltk.tokenize import RegexpTokenizer\n",
    "from sklearn.feature_extraction.text import TfidfVectorizer\n",
    "from sklearn.decomposition import NMF\n",
    "import matplotlib.pyplot as plt\n",
    "import nltk\n",
    "import numpy as np\n",
    "import pandas as pd\n",
    "import docx\n",
    "\n",
    "nltk.download('stopwords')\n",
    "nltk.download('wordnet')"
   ]
  },
  {
   "cell_type": "code",
   "execution_count": 34,
   "metadata": {},
   "outputs": [
    {
     "name": "stdout",
     "output_type": "stream",
     "text": [
      "Numero de documentos: 491\n"
     ]
    }
   ],
   "source": [
    "# Abre los documentos de Word\n",
    "doc_ciencia = docx.Document(\"ExportacionWordCREA_Ciencia.doc\")\n",
    "doc_deporte = docx.Document(\"ExportacionWordCREA_Deporte.doc\")\n",
    "doc_viaje = docx.Document(\"ExportacionWordCREA_Viaje.doc\")\n",
    "\n",
    "archivos = [doc_ciencia, doc_deporte, doc_viaje]\n",
    "\n",
    "# Inicializa listas para los títulos y textos\n",
    "titulos = []\n",
    "documentos = []\n",
    "\n",
    "# Inicializa una bandera para determinar si estamos en una sección de título o texto\n",
    "en_titulo = True\n",
    "\n",
    "# Recorre el contenido del documento\n",
    "for doc in archivos:\n",
    "    for paragraph in doc.paragraphs[2:]:\n",
    "        if paragraph.text:  # Verifica si el párrafo no está vacío\n",
    "            if en_titulo:\n",
    "                titulos.append(paragraph.text)\n",
    "            else:\n",
    "                documentos.append(paragraph.text)\n",
    "            # Cambia la bandera en_titulo en cada iteración\n",
    "            en_titulo = not en_titulo\n",
    "\n",
    "print(f\"Numero de documentos: {len(documentos)}\")"
   ]
  },
  {
   "cell_type": "code",
   "execution_count": 92,
   "metadata": {},
   "outputs": [
    {
     "name": "stdout",
     "output_type": "stream",
     "text": [
      "     abierto  accident    accion  acción  actitud  actividad   actual  \\\n",
      "0        0.0       0.0  0.192409     0.0      0.0        0.0  0.00000   \n",
      "1        0.0       0.0  0.000000     0.0      0.0        0.0  0.00000   \n",
      "2        0.0       0.0  0.000000     0.0      0.0        0.0  0.00000   \n",
      "3        0.0       0.0  0.000000     0.0      0.0        0.0  0.00000   \n",
      "4        0.0       0.0  0.000000     0.0      0.0        0.0  0.15876   \n",
      "..       ...       ...       ...     ...      ...        ...      ...   \n",
      "486      0.0       0.0  0.000000     0.0      0.0        0.0  0.00000   \n",
      "487      0.0       0.0  0.000000     0.0      0.0        0.0  0.00000   \n",
      "488      0.0       0.0  0.000000     0.0      0.0        0.0  0.00000   \n",
      "489      0.0       0.0  0.000000     0.0      0.0        0.0  0.00000   \n",
      "490      0.0       0.0  0.000000     0.0      0.0        0.0  0.00000   \n",
      "\n",
      "     acuerdo  adecuada  adelant  ...  época  ésta  étnico  éxito  íbamo  \\\n",
      "0        0.0  0.000000      0.0  ...    0.0   0.0     0.0    0.0    0.0   \n",
      "1        0.0  0.000000      0.0  ...    0.0   0.0     0.0    0.0    0.0   \n",
      "2        0.0  0.000000      0.0  ...    0.0   0.0     0.0    0.0    0.0   \n",
      "3        0.0  0.000000      0.0  ...    0.0   0.0     0.0    0.0    0.0   \n",
      "4        0.0  0.163419      0.0  ...    0.0   0.0     0.0    0.0    0.0   \n",
      "..       ...       ...      ...  ...    ...   ...     ...    ...    ...   \n",
      "486      0.0  0.000000      0.0  ...    0.0   0.0     0.0    0.0    0.0   \n",
      "487      0.0  0.000000      0.0  ...    0.0   0.0     0.0    0.0    0.0   \n",
      "488      0.0  0.000000      0.0  ...    0.0   0.0     0.0    0.0    0.0   \n",
      "489      0.0  0.000000      0.0  ...    0.0   0.0     0.0    0.0    0.0   \n",
      "490      0.0  0.000000      0.0  ...    0.0   0.0     0.0    0.0    0.0   \n",
      "\n",
      "       última  últimament  último     única  único  \n",
      "0    0.000000         0.0     0.0  0.000000    0.0  \n",
      "1    0.000000         0.0     0.0  0.000000    0.0  \n",
      "2    0.000000         0.0     0.0  0.000000    0.0  \n",
      "3    0.000000         0.0     0.0  0.000000    0.0  \n",
      "4    0.000000         0.0     0.0  0.000000    0.0  \n",
      "..        ...         ...     ...       ...    ...  \n",
      "486  0.322096         0.0     0.0  0.000000    0.0  \n",
      "487  0.000000         0.0     0.0  0.000000    0.0  \n",
      "488  0.000000         0.0     0.0  0.000000    0.0  \n",
      "489  0.000000         0.0     0.0  0.275944    0.0  \n",
      "490  0.000000         0.0     0.0  0.000000    0.0  \n",
      "\n",
      "[491 rows x 769 columns]\n"
     ]
    }
   ],
   "source": [
    "# Definir las funciones de preprocesamiento\n",
    "def preprocess_text(text):\n",
    "    # Tokenización personalizada para mantener solo palabras (sin números ni signos de puntuación)\n",
    "    tokenizer = RegexpTokenizer(r'\\b[^\\d\\W]+\\b')\n",
    "    words = tokenizer.tokenize(text)\n",
    "    \n",
    "    # Eliminación de stopwords\n",
    "    stop_words = set(stopwords.words('spanish')) \n",
    "    words = [word for word in words if word.lower() not in stop_words]\n",
    "    \n",
    "    # Stemming\n",
    "    stemmer = PorterStemmer()\n",
    "    words = [stemmer.stem(word) for word in words]\n",
    "    \n",
    "    # Lematización\n",
    "    lemmatizer = WordNetLemmatizer()\n",
    "    words = [lemmatizer.lemmatize(word) for word in words]\n",
    "    \n",
    "    return ' '.join(words)\n",
    "\n",
    "tfidf_vectorizer = TfidfVectorizer(preprocessor=preprocess_text, min_df=0.01)\n",
    "tfidf_matrix = tfidf_vectorizer.fit_transform(documentos)\n",
    "words = tfidf_vectorizer.get_feature_names_out()\n",
    "\n",
    "\n",
    "term_frequency_df = pd.DataFrame(tfidf_matrix.toarray(), columns=words)\n",
    "print(term_frequency_df)\n",
    "\n"
   ]
  },
  {
   "cell_type": "code",
   "execution_count": 93,
   "metadata": {},
   "outputs": [
    {
     "name": "stderr",
     "output_type": "stream",
     "text": [
      "c:\\Users\\samue\\AppData\\Local\\Programs\\Python\\Python310\\lib\\site-packages\\sklearn\\decomposition\\_nmf.py:1710: ConvergenceWarning: Maximum number of iterations 200 reached. Increase it to improve convergence.\n",
      "  warnings.warn(\n",
      "c:\\Users\\samue\\AppData\\Local\\Programs\\Python\\Python310\\lib\\site-packages\\sklearn\\decomposition\\_nmf.py:1710: ConvergenceWarning: Maximum number of iterations 200 reached. Increase it to improve convergence.\n",
      "  warnings.warn(\n"
     ]
    },
    {
     "data": {
      "image/png": "[encoded data removed]",
      "text/plain": [
       "<Figure size 640x480 with 1 Axes>"
      ]
     },
     "metadata": {},
     "output_type": "display_data"
    }
   ],
   "source": [
    "num_topics_range = range(1, 11)\n",
    "norms = []\n",
    "\n",
    "for num_topics in num_topics_range:\n",
    "    nmf_model = NMF(n_components=num_topics, random_state=1)\n",
    "    W = nmf_model.fit_transform(tfidf_matrix)\n",
    "    H = nmf_model.components_\n",
    "    approx = np.dot(W, H)\n",
    "    norm = np.linalg.norm(tfidf_matrix - approx)\n",
    "    norms.append(norm)\n",
    "\n",
    "\n",
    "plt.plot(num_topics_range, norms, marker='o')\n",
    "plt.xlabel('numero de topicos')\n",
    "plt.ylabel('norm')\n",
    "plt.title('numero optimo de topicos')\n",
    "plt.show()"
   ]
  },
  {
   "cell_type": "code",
   "execution_count": 94,
   "metadata": {},
   "outputs": [
    {
     "name": "stdout",
     "output_type": "stream",
     "text": [
      "\n",
      "Topico 1:\n",
      "medicina, social, ciencia, médica, estructura, liber, médico, sistema, cambio\n",
      "\n",
      "Topico 2:\n",
      "si, viajar, día, despué, jugar, partido, hacer, air, mundo\n",
      "\n",
      "Topico 3:\n",
      "deport, dijo, tigr, nunca, mendoza, oficina, periódico, va, bien\n",
      "\n",
      "Topico 4:\n",
      "salud, ciencia, investigación, social, problema, aspecto, científico, desarrollo, mayor\n",
      "\n",
      "Topico 5:\n",
      "ciencia, historia, hombr, antropología, cultura, conocimiento, natural, social, alimento\n"
     ]
    }
   ],
   "source": [
    "num_topics = 5\n",
    "model = NMF(n_components=num_topics)\n",
    "\n",
    "W = model.fit_transform(tfidf_matrix)\n",
    "H = model.components_\n",
    "\n",
    "for topic_idx, topic in enumerate(H):\n",
    "    \n",
    "    print(f\"\\nTopico {topic_idx + 1}:\")\n",
    "    top_terms = [words[i] for i in topic.argsort()[:-10:-1]]\n",
    "    print(\", \".join(top_terms))"
   ]
  }
 ],
 "metadata": {
  "kernelspec": {
   "display_name": "Python 3",
   "language": "python",
   "name": "python3"
  },
  "language_info": {
   "codemirror_mode": {
    "name": "ipython",
    "version": 3
   },
   "file_extension": ".py",
   "mimetype": "text/x-python",
   "name": "python",
   "nbconvert_exporter": "python",
   "pygments_lexer": "ipython3",
   "version": "3.10.7"
  },
  "orig_nbformat": 4
 },
 "nbformat": 4,
 "nbformat_minor": 2
}
