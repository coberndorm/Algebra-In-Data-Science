{
 "cells": [
  {
   "cell_type": "code",
   "execution_count": 79,
   "metadata": {},
   "outputs": [],
   "source": [
    "from sklearn import datasets\n",
    "import pandas as pd\n",
    "import numpy as np\n",
    "import matplotlib.pyplot as plt\n",
    "\n",
    "\n",
    "iris = datasets.load_iris()\n",
    "data = iris.data\n",
    "\n"
   ]
  },
  {
   "cell_type": "code",
   "execution_count": 80,
   "metadata": {},
   "outputs": [],
   "source": [
    "# Función para calcular la norma \\(p\\) de un vector \\(x\\)\n",
    "def lp(x: np.ndarray, p=1) -> float:\n",
    "    if p == \"inf\":\n",
    "        return np.max(np.abs(x))\n",
    "    return np.sum(np.abs(x)**p)**(1/p)"
   ]
  },
  {
   "cell_type": "code",
   "execution_count": 96,
   "metadata": {},
   "outputs": [],
   "source": [
    "A = np.array([[3,2,-1],\n",
    "              [3,-2,0],\n",
    "              [3,2,1],\n",
    "              [3,-2,0],\n",
    "              [3,2,-1]])\n",
    "def qr_normalization(A):\n",
    "    n,m = A.shape\n",
    "    transpose = False\n",
    "    if n>m: \n",
    "        A = A.T\n",
    "        n,m = A.shape\n",
    "        transpose = True\n",
    "\n",
    "    Q = []\n",
    "\n",
    "    for i in range(n):\n",
    "        omega_i = A[i]\n",
    "        for q_i in Q:\n",
    "            omega_i = omega_i - np.dot(np.dot(A[i], q_i), q_i)\n",
    "        \n",
    "        Q.append(omega_i/lp(omega_i, 2))\n",
    "\n",
    "\n",
    "\n",
    "    R = np.zeros((n,n))\n",
    "    for i in range(n):\n",
    "        R[i,i] = lp(A[i],2)\n",
    "        for j in range(i+1,n):\n",
    "            R[i,j] = np.dot(A[j],Q[i])\n",
    "\n",
    "\n",
    "    if transpose: \n",
    "        Q = np.array(Q).T\n",
    "    else:\n",
    "        Q = np.array(Q) \n",
    "    \n",
    "    return Q,R"
   ]
  },
  {
   "cell_type": "code",
   "execution_count": 116,
   "metadata": {},
   "outputs": [
    {
     "data": {
      "text/plain": [
       "array([[ 72.27620632,  36.98907477,  48.20064828,  15.60873291],\n",
       "       [  0.        ,  37.82062929, -13.76876634,  -5.76407773],\n",
       "       [  0.        ,   0.        ,  50.82036993,   4.47500611],\n",
       "       [  0.        ,   0.        ,   0.        ,  17.38763929]])"
      ]
     },
     "execution_count": 116,
     "metadata": {},
     "output_type": "execute_result"
    }
   ],
   "source": [
    "Q,R = qr_normalization(data)\n",
    "R"
   ]
  },
  {
   "cell_type": "code",
   "execution_count": 121,
   "metadata": {},
   "outputs": [
    {
     "name": "stdout",
     "output_type": "stream",
     "text": [
      "[ 5.1         6.8775277  -0.87439213  0.1269744 ]\n",
      "[5.1 3.5 1.4 0.2]\n"
     ]
    }
   ],
   "source": [
    "datos = np.dot(Q,R)\n",
    "print(datos[0])\n",
    "print(data[0])"
   ]
  },
  {
   "cell_type": "code",
   "execution_count": 118,
   "metadata": {},
   "outputs": [
    {
     "data": {
      "text/plain": [
       "array([[-72.27620632, -36.98907477, -48.20064828, -15.60873291],\n",
       "       [  0.        ,  -7.88722685,  13.76876634,   5.76407773],\n",
       "       [  0.        ,   0.        ,   8.3563496 ,   4.47500611],\n",
       "       [  0.        ,   0.        ,   0.        ,   2.33392057]])"
      ]
     },
     "execution_count": 118,
     "metadata": {},
     "output_type": "execute_result"
    }
   ],
   "source": [
    "np.linalg.qr(data)[1]"
   ]
  },
  {
   "cell_type": "code",
   "execution_count": 120,
   "metadata": {},
   "outputs": [
    {
     "data": {
      "text/plain": [
       "37.820629291433"
      ]
     },
     "execution_count": 120,
     "metadata": {},
     "output_type": "execute_result"
    }
   ],
   "source": [
    "np.linalg.norm(data[:,1])"
   ]
  }
 ],
 "metadata": {
  "kernelspec": {
   "display_name": ".venv",
   "language": "python",
   "name": "python3"
  },
  "language_info": {
   "codemirror_mode": {
    "name": "ipython",
    "version": 3
   },
   "file_extension": ".py",
   "mimetype": "text/x-python",
   "name": "python",
   "nbconvert_exporter": "python",
   "pygments_lexer": "ipython3",
   "version": "3.10.12"
  }
 },
 "nbformat": 4,
 "nbformat_minor": 2
}
