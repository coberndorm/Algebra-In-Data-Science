{
 "cells": [
  {
   "cell_type": "code",
   "execution_count": 2,
   "metadata": {},
   "outputs": [
    {
     "name": "stdout",
     "output_type": "stream",
     "text": [
      "/home/coberndorm/Documents/Semestre_IX/Linear_Algebra_In_Data_Science/Taller_1/Punto_2/the_egg.txt\n",
      "/home/coberndorm/Documents/Semestre_IX/Linear_Algebra_In_Data_Science/Taller_1/Punto_2/1661-0.txt\n",
      "/home/coberndorm/Documents/Semestre_IX/Linear_Algebra_In_Data_Science/Taller_1/Punto_2/KNN_autocomplete.ipynb\n"
     ]
    }
   ],
   "source": [
    "import numpy as np # linear algebra\n",
    "import pandas as pd # data processing, CSV file I/O (e.g. pd.read_csv)\n",
    "\n",
    "# Input data files are available in the read-only \"../input/\" directory\n",
    "# For example, running this (by clicking run or pressing Shift+Enter) will list all files under the input directory\n",
    "\n",
    "import os\n",
    "for dirname, _, filenames in os.walk('/home/coberndorm/Documents/Semestre_IX/Linear_Algebra_In_Data_Science/Taller_1/Punto_2/'):\n",
    "    for filename in filenames:\n",
    "        print(os.path.join(dirname, filename))\n"
   ]
  },
  {
   "cell_type": "code",
   "execution_count": 22,
   "metadata": {},
   "outputs": [],
   "source": [
    "import numpy as np\n",
    "import pandas as pd\n",
    "from sklearn.feature_extraction.text import CountVectorizer\n",
    "from sklearn.neighbors import NearestNeighbors"
   ]
  },
  {
   "cell_type": "code",
   "execution_count": 20,
   "metadata": {},
   "outputs": [
    {
     "data": {
      "text/plain": [
       "['the quick brown fox jumps over the lazy dog',\n",
       " 'she sells seashells by the seashore',\n",
       " 'in a galaxy far far away',\n",
       " 'the sun sets over the horizon painting the sky in shades of orange and pink',\n",
       " 'he played a beautiful melody on his guitar',\n",
       " 'the old oak tree stood tall in the middle of the forest',\n",
       " 'after a long day at work she enjoys a relaxing bath',\n",
       " 'the chef carefully prepared the exquisite dish',\n",
       " 'the city that never sleeps is always bustling with activity',\n",
       " 'they embarked on a thrilling adventure in search of hidden treasure',\n",
       " 'the waves crashed against the rocky shore',\n",
       " 'she gazed at the stars wondering about the mysteries of the universe',\n",
       " 'the crowd erupted into applause as the performer took a bow',\n",
       " 'as the rain poured down they sought shelter under a sturdy umbrella',\n",
       " 'the ancient manuscript contained secrets lost to time',\n",
       " 'with a backpack and a map in hand they set off to explore the wilderness',\n",
       " 'the scent of freshly baked bread wafted through the air',\n",
       " 'after years of hard work he finally achieved his dream',\n",
       " 'the detective examined the clues carefully piecing together the puzzle',\n",
       " 'in the quiet of the night the owl hooted from the treetops',\n",
       " 'they exchanged vows and promised to love each other forever',\n",
       " 'a rainbow appeared in the sky after the storm passed',\n",
       " 'the astronaut floated in space marveling at the beauty of the earth',\n",
       " 'the ancient castle was said to be haunted by ghosts',\n",
       " 'the scientist conducted experiments to unlock the secrets of the universe',\n",
       " 'the aroma of freshly brewed coffee filled the room',\n",
       " 'the marathon runners crossed the finish line exhausted but triumphant',\n",
       " 'they gathered around the campfire sharing stories under the starry sky',\n",
       " 'the artists brush strokes created a masterpiece on the canvas',\n",
       " 'the mysterious door led to a world of magic and wonder',\n",
       " 'the gentle breeze rustled the leaves in the forest',\n",
       " 'a pack of wolves howled in the distance',\n",
       " 'she carefully planted a garden of colorful flowers',\n",
       " 'the firefighter rushed into the burning building to save lives',\n",
       " 'the ancient ruins told the story of a lost civilization',\n",
       " 'he discovered a hidden cave deep in the mountains',\n",
       " 'the magician performed a mesmerizing trick with a deck of cards',\n",
       " 'the ocean stretched out endlessly meeting the sky on the horizon',\n",
       " 'children laughed and played in the park',\n",
       " 'the historic battlefield was a solemn reminder of the past',\n",
       " 'birds chirped merrily in the early morning',\n",
       " 'the symphony orchestra played a symphonic masterpiece',\n",
       " 'the scientist observed the behavior of ants in their colony',\n",
       " 'she built a sandcastle on the beach with meticulous care',\n",
       " 'a shooting star streaked across the night sky',\n",
       " 'the athlete broke the world record with an incredible performance',\n",
       " 'the ancient tree was a symbol of wisdom and longevity',\n",
       " 'the sunflower turned its face toward the sun',\n",
       " 'the detective solved the mystery using deductive reasoning',\n",
       " 'the river meandered through the lush green valley',\n",
       " 'a gentle rain showered the earth nourishing the plants',\n",
       " 'the circus tent stood tall in the center of town',\n",
       " 'the astronaut floated weightlessly in the spacecraft',\n",
       " 'the hiker reached the summit of the towering mountain',\n",
       " 'a majestic waterfall cascaded down the rocky cliffs',\n",
       " 'they danced under the moonlight lost in the music',\n",
       " 'the library was a treasure trove of knowledge',\n",
       " 'the chef added a pinch of spice to the simmering stew',\n",
       " 'the skyscrapers glittered in the citys skyline',\n",
       " 'the wise old owl watched over the forest at night',\n",
       " 'the painter mixed colors to create a vibrant palette',\n",
       " 'the butterfly fluttered gracefully from flower to flower',\n",
       " 'the sound of waves crashing on the shore was soothing',\n",
       " 'the marathon required months of rigorous training',\n",
       " 'the explorer charted uncharted territories on a map',\n",
       " 'the sun cast long shadows as it set in the west',\n",
       " 'the mountain range was a formidable natural barrier',\n",
       " 'the composer wrote a beautiful melody for the piano',\n",
       " 'the waterfalls mist cooled the air on a hot day',\n",
       " 'the news anchor reported the days top stories',\n",
       " 'the sculptor chiseled away at a block of marble',\n",
       " 'the bumblebee buzzed among the blooming flowers',\n",
       " 'the astronaut conducted experiments in outer space',\n",
       " 'the architect designed a stunning modern building',\n",
       " 'the farmer harvested ripe fruits from the orchard',\n",
       " 'the meteorologist predicted clear skies for the weekend',\n",
       " 'the geologist studied rock formations in the canyon',\n",
       " 'the botanist identified rare plants in the rainforest',\n",
       " 'the teacher inspired her students to learn and grow',\n",
       " 'the photographer captured a breathtaking sunset',\n",
       " 'the mechanic repaired the engine with skill and precision',\n",
       " 'the fashion designer created a new clothing line',\n",
       " 'the actor delivered a powerful monologue on stage',\n",
       " 'the detective followed the suspects trail',\n",
       " 'the chef prepared a gourmet meal for the guests',\n",
       " 'the musician composed a heartfelt love song',\n",
       " 'the sculptor molded clay into a work of art',\n",
       " 'the gardener tended to the vibrant garden',\n",
       " 'the explorer ventured into uncharted territory',\n",
       " 'the artists studio was filled with creative energy',\n",
       " 'the astronaut trained rigorously for the space mission',\n",
       " 'the historian uncovered ancient artifacts',\n",
       " 'the writer penned a captivating novel',\n",
       " 'the chef crafted a mouthwatering dessert',\n",
       " 'the photographer captured candid moments at the wedding',\n",
       " 'the musician played a soulful tune on the saxophone',\n",
       " 'the scientist made a groundbreaking discovery',\n",
       " 'the teacher inspired a love for learning in her students',\n",
       " 'the architect designed an ecofriendly building',\n",
       " 'the athlete broke a world record in the race',\n",
       " 'the poet composed verses that touched the heart',\n",
       " 'the detective followed leads to solve the case',\n",
       " 'the artist painted a vibrant mural on the wall',\n",
       " 'the chef experimented with exotic ingredients',\n",
       " 'the astronomer observed distant galaxies',\n",
       " 'the botanist studied plant species in the rainforest',\n",
       " 'the historian wrote a comprehensive biography',\n",
       " 'the musician performed a soldout concert',\n",
       " 'the photographer captured the beauty of nature',\n",
       " 'the chef prepared a fivecourse gourmet meal',\n",
       " 'the sculptor sculpted a statue from marble',\n",
       " 'the gardener cultivated a lush botanical garden',\n",
       " 'the explorer embarked on a perilous journey',\n",
       " 'the architect designed an iconic skyscraper',\n",
       " 'the teacher inspired generations of students',\n",
       " 'the astronaut conducted experiments in zero gravity',\n",
       " 'the journalist reported from a war zone',\n",
       " 'the novelist wrote a bestselling book',\n",
       " 'the chef showcased culinary expertise on tv',\n",
       " 'the musician composed a symphony for the orchestra',\n",
       " 'the scientist made a breakthrough in cancer research',\n",
       " 'the teacher encouraged creativity in the classroom',\n",
       " 'the architect designed sustainable ecohomes',\n",
       " 'the artists work was displayed in a prestigious gallery',\n",
       " 'the chef received a michelin star for culinary excellence',\n",
       " 'the photographer captured the essence of a bustling city',\n",
       " 'the musician performed to an adoring crowd',\n",
       " 'the historian uncovered lost civilizations',\n",
       " 'the detective cracked a complex criminal case',\n",
       " 'the astronaut ventured into the unknown of deep space',\n",
       " 'the journalist reported on political upheaval',\n",
       " 'the novelist penned a thrilling mystery novel',\n",
       " 'the chef created a fusion of flavors in a dish',\n",
       " 'the sculptor shaped metal into a masterpiece',\n",
       " 'the gardener cultivated rare and exotic plants',\n",
       " 'the explorer mapped uncharted territories',\n",
       " 'the architect designed innovative public spaces',\n",
       " 'the teacher inspired a love for literature',\n",
       " 'the musician composed a concerto for the orchestra',\n",
       " 'the scientist conducted experiments in a stateoftheart lab',\n",
       " 'the journalist interviewed world leaders',\n",
       " 'the novelist crafted a compelling narrative',\n",
       " 'the chef crafted edible works of art',\n",
       " 'the artists gallery exhibition drew a large crowd',\n",
       " 'the musician played a soulful ballad on the piano',\n",
       " 'the historian analyzed historical documents',\n",
       " 'the detective uncovered a web of deceit',\n",
       " 'the astronaut experienced weightlessness in orbit',\n",
       " 'the journalist reported from a natural disaster site',\n",
       " 'the novelist created intricate fictional worlds',\n",
       " 'the chef mastered the art of molecular gastronomy',\n",
       " 'the sculptor sculpted a monument for a city',\n",
       " 'the gardener cultivated a tranquil zen garden',\n",
       " 'the explorer documented rare wildlife species',\n",
       " 'the architect designed sustainable urban landscapes',\n",
       " 'the teacher inspired a passion for mathematics',\n",
       " 'the musician composed a musical for the stage',\n",
       " 'the scientist published groundbreaking research findings',\n",
       " 'the journalist covered major global events',\n",
       " 'the novelist won a prestigious literary award',\n",
       " 'the chef hosted a popular cooking show',\n",
       " 'the artists paintings adorned museum walls',\n",
       " 'the musician played a mesmerizing melody on the violin',\n",
       " 'the historian chronicled the rise and fall of empires',\n",
       " 'the detective solved a highprofile murder case',\n",
       " 'the astronaut marveled at earth from the international space station',\n",
       " 'the journalist reported on groundbreaking scientific discoveries',\n",
       " 'the novelist wrote a compelling historical novel',\n",
       " 'the chef opened a critically acclaimed restaurant',\n",
       " 'the sculptors sculptures were displayed in public squares',\n",
       " 'the gardener maintained a serene japanese garden',\n",
       " 'the explorer discovered a hidden cave system',\n",
       " 'the architect designed sustainable housing for the homeless',\n",
       " 'the teacher inspired a generation of young scientists',\n",
       " 'the musician composed a symphony inspired by nature',\n",
       " 'the scientist conducted experiments that changed the field',\n",
       " 'the journalist covered stories of social justice',\n",
       " 'the novelist penned an epic fantasy saga',\n",
       " 'the chef created a culinary masterpiece',\n",
       " 'the artists sculptures challenged conventional art',\n",
       " 'the musician played a haunting melody on the flute',\n",
       " 'the historian researched ancient civilizations',\n",
       " 'the detective unraveled a complex conspiracy',\n",
       " 'the astronaut conducted experiments on the moon',\n",
       " 'the journalist reported on environmental conservation efforts',\n",
       " 'the novelist wrote a thoughtprovoking dystopian novel',\n",
       " 'the chef perfected the art of sushimaking',\n",
       " 'the sculptors work was displayed in prestigious art museums',\n",
       " 'the gardener cultivated a lush botanical paradise',\n",
       " 'the explorer ventured into the heart of the amazon rainforest',\n",
       " 'the architect designed innovative sustainable cities',\n",
       " 'the teacher instilled a love for history in students',\n",
       " 'the musician composed a score for a blockbuster film',\n",
       " 'the scientist made advancements in renewable energy',\n",
       " 'the journalist covered stories of humanitarian aid',\n",
       " 'the novelist penned a gripping political thriller',\n",
       " 'the chef hosted a popular cooking competition show',\n",
       " 'the artists installations challenged societal norms',\n",
       " 'the musician played a soulstirring melody on the cello',\n",
       " 'the historian delved into the mysteries of ancient civilizations']"
      ]
     },
     "execution_count": 20,
     "metadata": {},
     "output_type": "execute_result"
    }
   ],
   "source": [
    "with open(\"sentences.txt\", \"r\") as f:\n",
    "    data = f.read()\n",
    "    data = data.lower()\n",
    "    data = data.translate(str.maketrans('', '', string.punctuation))\n",
    "    data = data.splitlines()\n",
    "    #data = [line.split() for line in data]\n",
    "data"
   ]
  },
  {
   "cell_type": "code",
   "execution_count": 24,
   "metadata": {},
   "outputs": [
    {
     "data": {
      "text/plain": [
       "<200x669 sparse matrix of type '<class 'numpy.int64'>'\n",
       "\twith 1418 stored elements in Compressed Sparse Row format>"
      ]
     },
     "execution_count": 24,
     "metadata": {},
     "output_type": "execute_result"
    }
   ],
   "source": [
    "vectorizer = CountVectorizer()\n",
    "X = vectorizer.fit_transform(data)\n"
   ]
  },
  {
   "cell_type": "code",
   "execution_count": 47,
   "metadata": {},
   "outputs": [
    {
     "data": {
      "text/html": [
       "<style>#sk-container-id-3 {color: black;}#sk-container-id-3 pre{padding: 0;}#sk-container-id-3 div.sk-toggleable {background-color: white;}#sk-container-id-3 label.sk-toggleable__label {cursor: pointer;display: block;width: 100%;margin-bottom: 0;padding: 0.3em;box-sizing: border-box;text-align: center;}#sk-container-id-3 label.sk-toggleable__label-arrow:before {content: \"▸\";float: left;margin-right: 0.25em;color: #696969;}#sk-container-id-3 label.sk-toggleable__label-arrow:hover:before {color: black;}#sk-container-id-3 div.sk-estimator:hover label.sk-toggleable__label-arrow:before {color: black;}#sk-container-id-3 div.sk-toggleable__content {max-height: 0;max-width: 0;overflow: hidden;text-align: left;background-color: #f0f8ff;}#sk-container-id-3 div.sk-toggleable__content pre {margin: 0.2em;color: black;border-radius: 0.25em;background-color: #f0f8ff;}#sk-container-id-3 input.sk-toggleable__control:checked~div.sk-toggleable__content {max-height: 200px;max-width: 100%;overflow: auto;}#sk-container-id-3 input.sk-toggleable__control:checked~label.sk-toggleable__label-arrow:before {content: \"▾\";}#sk-container-id-3 div.sk-estimator input.sk-toggleable__control:checked~label.sk-toggleable__label {background-color: #d4ebff;}#sk-container-id-3 div.sk-label input.sk-toggleable__control:checked~label.sk-toggleable__label {background-color: #d4ebff;}#sk-container-id-3 input.sk-hidden--visually {border: 0;clip: rect(1px 1px 1px 1px);clip: rect(1px, 1px, 1px, 1px);height: 1px;margin: -1px;overflow: hidden;padding: 0;position: absolute;width: 1px;}#sk-container-id-3 div.sk-estimator {font-family: monospace;background-color: #f0f8ff;border: 1px dotted black;border-radius: 0.25em;box-sizing: border-box;margin-bottom: 0.5em;}#sk-container-id-3 div.sk-estimator:hover {background-color: #d4ebff;}#sk-container-id-3 div.sk-parallel-item::after {content: \"\";width: 100%;border-bottom: 1px solid gray;flex-grow: 1;}#sk-container-id-3 div.sk-label:hover label.sk-toggleable__label {background-color: #d4ebff;}#sk-container-id-3 div.sk-serial::before {content: \"\";position: absolute;border-left: 1px solid gray;box-sizing: border-box;top: 0;bottom: 0;left: 50%;z-index: 0;}#sk-container-id-3 div.sk-serial {display: flex;flex-direction: column;align-items: center;background-color: white;padding-right: 0.2em;padding-left: 0.2em;position: relative;}#sk-container-id-3 div.sk-item {position: relative;z-index: 1;}#sk-container-id-3 div.sk-parallel {display: flex;align-items: stretch;justify-content: center;background-color: white;position: relative;}#sk-container-id-3 div.sk-item::before, #sk-container-id-3 div.sk-parallel-item::before {content: \"\";position: absolute;border-left: 1px solid gray;box-sizing: border-box;top: 0;bottom: 0;left: 50%;z-index: -1;}#sk-container-id-3 div.sk-parallel-item {display: flex;flex-direction: column;z-index: 1;position: relative;background-color: white;}#sk-container-id-3 div.sk-parallel-item:first-child::after {align-self: flex-end;width: 50%;}#sk-container-id-3 div.sk-parallel-item:last-child::after {align-self: flex-start;width: 50%;}#sk-container-id-3 div.sk-parallel-item:only-child::after {width: 0;}#sk-container-id-3 div.sk-dashed-wrapped {border: 1px dashed gray;margin: 0 0.4em 0.5em 0.4em;box-sizing: border-box;padding-bottom: 0.4em;background-color: white;}#sk-container-id-3 div.sk-label label {font-family: monospace;font-weight: bold;display: inline-block;line-height: 1.2em;}#sk-container-id-3 div.sk-label-container {text-align: center;}#sk-container-id-3 div.sk-container {/* jupyter's `normalize.less` sets `[hidden] { display: none; }` but bootstrap.min.css set `[hidden] { display: none !important; }` so we also need the `!important` here to be able to override the default hidden behavior on the sphinx rendered scikit-learn.org. See: https://github.com/scikit-learn/scikit-learn/issues/21755 */display: inline-block !important;position: relative;}#sk-container-id-3 div.sk-text-repr-fallback {display: none;}</style><div id=\"sk-container-id-3\" class=\"sk-top-container\"><div class=\"sk-text-repr-fallback\"><pre>NearestNeighbors(n_neighbors=100)</pre><b>In a Jupyter environment, please rerun this cell to show the HTML representation or trust the notebook. <br />On GitHub, the HTML representation is unable to render, please try loading this page with nbviewer.org.</b></div><div class=\"sk-container\" hidden><div class=\"sk-item\"><div class=\"sk-estimator sk-toggleable\"><input class=\"sk-toggleable__control sk-hidden--visually\" id=\"sk-estimator-id-3\" type=\"checkbox\" checked><label for=\"sk-estimator-id-3\" class=\"sk-toggleable__label sk-toggleable__label-arrow\">NearestNeighbors</label><div class=\"sk-toggleable__content\"><pre>NearestNeighbors(n_neighbors=100)</pre></div></div></div></div></div>"
      ],
      "text/plain": [
       "NearestNeighbors(n_neighbors=100)"
      ]
     },
     "execution_count": 47,
     "metadata": {},
     "output_type": "execute_result"
    }
   ],
   "source": [
    "# Create a KNN model with k neighbors\n",
    "k = 100\n",
    "knn = NearestNeighbors(n_neighbors=k, metric='cosine')\n",
    "knn.fit(X)"
   ]
  },
  {
   "cell_type": "code",
   "execution_count": 48,
   "metadata": {},
   "outputs": [],
   "source": [
    "def predict_next_word(input_text):\n",
    "    # Transform the input text into a BoW vector\n",
    "    input_vector = vectorizer.transform([input_text])\n",
    "\n",
    "    # Find the k-nearest neighbors\n",
    "    _, indices = knn.kneighbors(input_vector)\n",
    "\n",
    "    # Extract the text of the k-nearest neighbors\n",
    "    neighbors_text = [data[i] for i in indices[0]]\n",
    "\n",
    "    # Tokenize the neighbors' text\n",
    "    neighbors_tokens = [text.split() for text in neighbors_text]\n",
    "\n",
    "    # Create a dictionary to count the next words\n",
    "    next_word_count = {}\n",
    "    for tokens in neighbors_tokens:\n",
    "        if len(tokens) > 1:  # Ensure there's a next word\n",
    "            next_word = tokens[-1]  # Get the last word\n",
    "            if next_word not in next_word_count:\n",
    "                next_word_count[next_word] = 1\n",
    "            else:\n",
    "                next_word_count[next_word] += 1\n",
    "\n",
    "    # Find the most common next word\n",
    "    if next_word_count:\n",
    "        most_common_next_word = max(next_word_count, key=next_word_count.get)\n",
    "        return most_common_next_word\n",
    "    else:\n",
    "        return None\n",
    "\n"
   ]
  },
  {
   "cell_type": "code",
   "execution_count": 50,
   "metadata": {},
   "outputs": [
    {
     "name": "stdout",
     "output_type": "stream",
     "text": [
      "Predicted next word: novel\n"
     ]
    }
   ],
   "source": [
    "# Example usage:\n",
    "input_text = \"I feel like\"\n",
    "predicted_word = predict_next_word(input_text)\n",
    "print(\"Predicted next word:\", predicted_word)"
   ]
  },
  {
   "cell_type": "code",
   "execution_count": null,
   "metadata": {},
   "outputs": [],
   "source": []
  }
 ],
 "metadata": {
  "kernelspec": {
   "display_name": ".venv",
   "language": "python",
   "name": "python3"
  },
  "language_info": {
   "codemirror_mode": {
    "name": "ipython",
    "version": 3
   },
   "file_extension": ".py",
   "mimetype": "text/x-python",
   "name": "python",
   "nbconvert_exporter": "python",
   "pygments_lexer": "ipython3",
   "version": "3.10.12"
  },
  "orig_nbformat": 4
 },
 "nbformat": 4,
 "nbformat_minor": 2
}
