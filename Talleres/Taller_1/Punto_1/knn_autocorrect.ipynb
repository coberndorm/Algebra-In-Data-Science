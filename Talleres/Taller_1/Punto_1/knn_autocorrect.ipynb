{
 "cells": [
  {
   "cell_type": "markdown",
   "metadata": {},
   "source": [
    "# Punto 1 - Autocorrector con KNN"
   ]
  },
  {
   "cell_type": "code",
   "execution_count": 1,
   "metadata": {},
   "outputs": [],
   "source": [
    "import numpy as np\n",
    "import json\n",
    "from sklearn.feature_extraction.text import TfidfVectorizer\n",
    "from sklearn.neighbors import NearestNeighbors"
   ]
  },
  {
   "cell_type": "code",
   "execution_count": 2,
   "metadata": {},
   "outputs": [
    {
     "name": "stdout",
     "output_type": "stream",
     "text": [
      "['equus-quagga', 'panthera-leo', 'panthera-onca', 'ursus-arctos-horribilis', 'megaptera-novaeangliae', 'panthera-tigris', 'haliaeetus-leucocephalus', 'tyrannosaurus-rex', 'diplodocus', 'panthera-pardus', 'homo-sapiens', 'phoebetria-fusca', 'bos-taurus', 'gallus-gallus-domesticus', 'ovis-aries', 'ceratotherium-simum', 'loxodonta-africana', 'tursiops-truncatus', 'orcinus-orca', 'carcharodon-carcharias', 'canis-lupus-familiaris', 'felis-catus', 'salmo-salar', 'balaenoptera-musculus', 'giraffa-camelopardalis', 'ophiophagus-hannah', 'crotalus-atrox', 'varanus-komodoensis', 'pterois-mombasae', 'spinosaurus-aegyptiacus', 'crocodylus-niloticus', 'falco-peregrinus', 'gorilla-gorilla', 'pongo-abelii', 'gavialis-gangeticus', 'acinonyx-jubatus', 'canis-lupus', 'ursus-maritimus', 'hippopotamus-amphibius', 'iguana-iguana', 'iguanodon-bernissartensis', 'stegosaurus-stenops', 'triceratops-horridus', 'pteranodon-longiceps', 'ankylosaurus-magniventris', 'agalychnis-callidryas', 'dendrobatidae', 'mellisuga-helenae', 'eudocimus-albus', 'sphyrna-mokarran', 'trilobita', 'enteroctopus-dofleini', 'coelacanthiformes', 'equus-caballus', 'odobenus-rosmarus', 'physeter-macrocephalus', 'dugong-dugon', 'eunectes-murinus', 'malayopython-reticulatus', 'rattus-rattus', 'ornithorhynchus-anatinus', 'desmodus-rotundus', 'taurotragus-oryx', 'connochaetes-gnou', 'puma-concolor', 'formicidae', 'danaus-plexippus', 'papilio-glaucus', 'heterocera', 'dermochelys-coriacea', 'lampropeltis-triangulum', 'heloderma-suspectum', 'macropus-giganteus', 'ailuropoda-melanoleuca', 'ailurus-fulgens', 'procyon-lotor', 'smilodon-populator', 'mammuthus-primigeniu', 'tapirus', 'bison-bison', 'alces-alces', 'aptenodytes-forsteri', 'hydrurga-leptonyx', 'bradypus-variegatus', 'sciurus-carolinensis', 'cyanocitta-cristata', 'periplaneta-americana', 'anas-platyrhynchos', 'pavo-cristatus', 'ara-macao', 'enhydra-lutris', 'physalia-physalis', 'codium-fragile', 'centruroides-vittatus', 'lemur-catta', 'delphinapterus-leucas', 'inia-geoffrensis', 'phascolarctos-cinereus', 'spheniscus-demersus', 'aquila-chrysaetos', 'branta-canadensis', 'turdus-migratorius', 'passerina-ciris', 'geococcyx-californianus', 'icterus-galbula', 'icterus-spurius', 'crotophaga-sulcirostris', 'monodon-monoceros', 'struthio-camelus', 'ardea-herodias', 'phoenicopterus-ruber', 'okapia-johnstoni', 'cryptoprocta-ferox', 'cardinalis-cardinalis', 'apis-mellifera', 'telmatobufo-bullocki', 'architeuthis-dux', 'agkistrodon-contortrix', 'eidolon-helvum', 'ceratitis-capitata', 'musca-domestica', 'thryothorus-ludovicianus', 'rusa-unicolor', 'bos-gaurus', 'vultur-gryphus', 'aethia-cristatella', 'mimus-polyglottos', 'cathartes-aura', 'poecile-atricapillus', 'mergus-serrator', 'colaptes-auratus', 'circus-hudsonius', 'tyrannus-tyrannus', 'betta-splendens', 'pterois-volitans', 'phyllobates-terribilis', 'hapalochlaena-maculosa', 'ovis-canadensis', 'vulpes-vulpes', 'lepus-americanus', 'dasypus-novemcinctus', 'martes-americana', 'tarsius-pumilus', 'melanerpes-carolinus', 'icterus-gularis', 'chelonia-mydas', 'chrysemys-picta', 'pantherophis-guttatus', 'correlophus-ciliatus', 'centrochelys-sulcata', 'pantherophis-alleghaniensis']\n"
     ]
    }
   ],
   "source": [
    "#Leemos el archivo que contiene el vocabulario con nombres cientificos\n",
    "with open(\"translation.json\") as jsonFile:\n",
    "  data = json.load(jsonFile)\n",
    "\n",
    "vocabulary = []\n",
    "for i in data.keys():\n",
    "  vocabulary.append(i)\n",
    "\n",
    "print(vocabulary)"
   ]
  },
  {
   "cell_type": "code",
   "execution_count": 3,
   "metadata": {},
   "outputs": [
    {
     "data": {
      "text/html": [
       "<style>#sk-container-id-1 {color: black;}#sk-container-id-1 pre{padding: 0;}#sk-container-id-1 div.sk-toggleable {background-color: white;}#sk-container-id-1 label.sk-toggleable__label {cursor: pointer;display: block;width: 100%;margin-bottom: 0;padding: 0.3em;box-sizing: border-box;text-align: center;}#sk-container-id-1 label.sk-toggleable__label-arrow:before {content: \"▸\";float: left;margin-right: 0.25em;color: #696969;}#sk-container-id-1 label.sk-toggleable__label-arrow:hover:before {color: black;}#sk-container-id-1 div.sk-estimator:hover label.sk-toggleable__label-arrow:before {color: black;}#sk-container-id-1 div.sk-toggleable__content {max-height: 0;max-width: 0;overflow: hidden;text-align: left;background-color: #f0f8ff;}#sk-container-id-1 div.sk-toggleable__content pre {margin: 0.2em;color: black;border-radius: 0.25em;background-color: #f0f8ff;}#sk-container-id-1 input.sk-toggleable__control:checked~div.sk-toggleable__content {max-height: 200px;max-width: 100%;overflow: auto;}#sk-container-id-1 input.sk-toggleable__control:checked~label.sk-toggleable__label-arrow:before {content: \"▾\";}#sk-container-id-1 div.sk-estimator input.sk-toggleable__control:checked~label.sk-toggleable__label {background-color: #d4ebff;}#sk-container-id-1 div.sk-label input.sk-toggleable__control:checked~label.sk-toggleable__label {background-color: #d4ebff;}#sk-container-id-1 input.sk-hidden--visually {border: 0;clip: rect(1px 1px 1px 1px);clip: rect(1px, 1px, 1px, 1px);height: 1px;margin: -1px;overflow: hidden;padding: 0;position: absolute;width: 1px;}#sk-container-id-1 div.sk-estimator {font-family: monospace;background-color: #f0f8ff;border: 1px dotted black;border-radius: 0.25em;box-sizing: border-box;margin-bottom: 0.5em;}#sk-container-id-1 div.sk-estimator:hover {background-color: #d4ebff;}#sk-container-id-1 div.sk-parallel-item::after {content: \"\";width: 100%;border-bottom: 1px solid gray;flex-grow: 1;}#sk-container-id-1 div.sk-label:hover label.sk-toggleable__label {background-color: #d4ebff;}#sk-container-id-1 div.sk-serial::before {content: \"\";position: absolute;border-left: 1px solid gray;box-sizing: border-box;top: 0;bottom: 0;left: 50%;z-index: 0;}#sk-container-id-1 div.sk-serial {display: flex;flex-direction: column;align-items: center;background-color: white;padding-right: 0.2em;padding-left: 0.2em;position: relative;}#sk-container-id-1 div.sk-item {position: relative;z-index: 1;}#sk-container-id-1 div.sk-parallel {display: flex;align-items: stretch;justify-content: center;background-color: white;position: relative;}#sk-container-id-1 div.sk-item::before, #sk-container-id-1 div.sk-parallel-item::before {content: \"\";position: absolute;border-left: 1px solid gray;box-sizing: border-box;top: 0;bottom: 0;left: 50%;z-index: -1;}#sk-container-id-1 div.sk-parallel-item {display: flex;flex-direction: column;z-index: 1;position: relative;background-color: white;}#sk-container-id-1 div.sk-parallel-item:first-child::after {align-self: flex-end;width: 50%;}#sk-container-id-1 div.sk-parallel-item:last-child::after {align-self: flex-start;width: 50%;}#sk-container-id-1 div.sk-parallel-item:only-child::after {width: 0;}#sk-container-id-1 div.sk-dashed-wrapped {border: 1px dashed gray;margin: 0 0.4em 0.5em 0.4em;box-sizing: border-box;padding-bottom: 0.4em;background-color: white;}#sk-container-id-1 div.sk-label label {font-family: monospace;font-weight: bold;display: inline-block;line-height: 1.2em;}#sk-container-id-1 div.sk-label-container {text-align: center;}#sk-container-id-1 div.sk-container {/* jupyter's `normalize.less` sets `[hidden] { display: none; }` but bootstrap.min.css set `[hidden] { display: none !important; }` so we also need the `!important` here to be able to override the default hidden behavior on the sphinx rendered scikit-learn.org. See: https://github.com/scikit-learn/scikit-learn/issues/21755 */display: inline-block !important;position: relative;}#sk-container-id-1 div.sk-text-repr-fallback {display: none;}</style><div id=\"sk-container-id-1\" class=\"sk-top-container\"><div class=\"sk-text-repr-fallback\"><pre>NearestNeighbors(metric=&#x27;cosine&#x27;, n_neighbors=2)</pre><b>In a Jupyter environment, please rerun this cell to show the HTML representation or trust the notebook. <br />On GitHub, the HTML representation is unable to render, please try loading this page with nbviewer.org.</b></div><div class=\"sk-container\" hidden><div class=\"sk-item\"><div class=\"sk-estimator sk-toggleable\"><input class=\"sk-toggleable__control sk-hidden--visually\" id=\"sk-estimator-id-1\" type=\"checkbox\" checked><label for=\"sk-estimator-id-1\" class=\"sk-toggleable__label sk-toggleable__label-arrow\">NearestNeighbors</label><div class=\"sk-toggleable__content\"><pre>NearestNeighbors(metric=&#x27;cosine&#x27;, n_neighbors=2)</pre></div></div></div></div></div>"
      ],
      "text/plain": [
       "NearestNeighbors(metric='cosine', n_neighbors=2)"
      ]
     },
     "execution_count": 3,
     "metadata": {},
     "output_type": "execute_result"
    }
   ],
   "source": [
    "#convertimos la lista del vocabulario a una representacion numerica\n",
    "tfidf_vectorizer = TfidfVectorizer(analyzer='char')\n",
    "tfidf_matrix = tfidf_vectorizer.fit_transform(vocabulary)\n",
    "\n",
    "#entrenamos el modelo KNN para encontrar 2 vecinos\n",
    "knn = NearestNeighbors(n_neighbors=2, metric=\"cosine\")\n",
    "knn.fit(tfidf_matrix)"
   ]
  },
  {
   "cell_type": "code",
   "execution_count": 4,
   "metadata": {},
   "outputs": [],
   "source": [
    "#definimos la funcion que retornara la palabra mas parecida en el vocabulario\n",
    "def autocorrect(input_word):\n",
    "\n",
    "    #representacion numerica de la palabra ingresada\n",
    "    input_vector = tfidf_vectorizer.transform([input_word])\n",
    "    \n",
    "    #encontrar el vecino mas cercano en el vocabulario\n",
    "    _, indices = knn.kneighbors(input_vector)\n",
    "    closest_words = [vocabulary[i] for i in indices[0]]\n",
    "    \n",
    "    return closest_words"
   ]
  },
  {
   "cell_type": "markdown",
   "metadata": {},
   "source": [
    "Ejemplos de nombres cientificos para probar la funcion de autocorrector:\n",
    "\n",
    "- tyrannosaurus-rex: T. Rex\n",
    "- salmo-salar: Salmon\n",
    "- balaenoptera-musculus: Blue Whale\n",
    "- canis-lupus: Wolf,\n",
    "- alces-alces: Moose"
   ]
  },
  {
   "cell_type": "code",
   "execution_count": 7,
   "metadata": {},
   "outputs": [
    {
     "name": "stdout",
     "output_type": "stream",
     "text": [
      "Especie: salmon\n",
      "\n",
      "Quisiste decir: salmo-salar o monodon-monoceros?\n"
     ]
    }
   ],
   "source": [
    "#modificar variable con la especie que se quiera buscar\n",
    "input_word = \"salmon\"\n",
    "\n",
    "suggestions = autocorrect(input_word)\n",
    "\n",
    "print(f\"Especie: {input_word}\")\n",
    "print()\n",
    "print(f\"Quisiste decir: {suggestions[0]} o {suggestions[1]}?\")"
   ]
  }
 ],
 "metadata": {
  "kernelspec": {
   "display_name": "Python 3",
   "language": "python",
   "name": "python3"
  },
  "language_info": {
   "codemirror_mode": {
    "name": "ipython",
    "version": 3
   },
   "file_extension": ".py",
   "mimetype": "text/x-python",
   "name": "python",
   "nbconvert_exporter": "python",
   "pygments_lexer": "ipython3",
   "version": "3.10.7"
  },
  "orig_nbformat": 4
 },
 "nbformat": 4,
 "nbformat_minor": 2
}
