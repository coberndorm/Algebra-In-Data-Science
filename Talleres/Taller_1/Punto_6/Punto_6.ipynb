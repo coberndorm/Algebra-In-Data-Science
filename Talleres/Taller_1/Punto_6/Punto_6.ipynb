{
 "cells": [
  {
   "cell_type": "code",
   "execution_count": 2,
   "metadata": {},
   "outputs": [],
   "source": [
    "import numpy as np"
   ]
  },
  {
   "cell_type": "code",
   "execution_count": 3,
   "metadata": {},
   "outputs": [],
   "source": [
    "# Función para calcular la norma \\(p\\) de una matriz \\(x\\) por filas\n",
    "def lp_matrix(x: np.ndarray, p=1) -> float:\n",
    "    if p == \"inf\":\n",
    "        return np.max(np.abs(x), axis=1)\n",
    "    return np.sum(np.abs(x)**p, axis=1)**(1/p)\n",
    "\n",
    "# Función para calcular la norma \\(p\\) de un vector \\(x\\)\n",
    "def lp_vector(x: np.ndarray, p=1) -> float:\n",
    "    if p == \"inf\":\n",
    "        return np.max(np.abs(x))\n",
    "    return np.sum(np.abs(x)**p)**(1/p)"
   ]
  },
  {
   "cell_type": "code",
   "execution_count": 4,
   "metadata": {},
   "outputs": [],
   "source": [
    "# Función que aproxima la norma \\(p\\) de una matriz \\(A\\) mediante muestreo Monte Carlo\n",
    "def numeric_approach_lp_matrix_norm(matrix, p, samples):\n",
    "    dimension = len(matrix)\n",
    "    montecarlo = np.random.random((samples, dimension))\n",
    "    \n",
    "    # Normalizamos los vectores de Montecarlo\n",
    "    montecarlo_norm = montecarlo / lp_matrix(montecarlo, p).reshape(-1, 1)\n",
    "\n",
    "    # Calculamos la norma inducida\n",
    "    norm_induced = lp_matrix(np.dot(matrix, montecarlo_norm.T).T, p)\n",
    "    idx = np.argmax(norm_induced)\n",
    "\n",
    "    # Comparamos con el valor real de la norma \\(p\\) de la matriz \\(A\\)\n",
    "    if p != \"inf\":\n",
    "        print(\"Numeric approach: \", lp_vector(np.dot(matrix, montecarlo_norm[idx, :]), p), \" Vs. Real value: \", np.linalg.norm(matrix, ord=p))\n",
    "    else:\n",
    "        print(\"Numeric approach: \", lp_vector(np.dot(matrix, montecarlo_norm[idx, :]), p), \" Vs. Real value: \", np.linalg.norm(matrix, ord=np.inf))\n",
    "    \n",
    "    return montecarlo_norm[idx, :]"
   ]
  },
  {
   "cell_type": "code",
   "execution_count": 5,
   "metadata": {},
   "outputs": [],
   "source": [
    "# Función que aproxima la norma (p) de una matriz (A) mediante un enfoque iterativo\n",
    "def iterative_numeric_approach_lp_matrix_norm(A, p, samples, max_iter=500):\n",
    "    dimension = len(A)\n",
    "    \n",
    "    if p != \"inf\":\n",
    "        real_val = np.linalg.norm(A, ord=p)\n",
    "    else:\n",
    "        real_val = np.linalg.norm(A, ord=np.inf)\n",
    "    \n",
    "    montecarlo = np.random.random((samples*10, dimension))\n",
    "\n",
    "    # Normalizamos los vectores de Montecarlo\n",
    "    montecarlo_norm = montecarlo / lp_matrix(montecarlo, p).reshape(-1, 1)\n",
    "\n",
    "    # Calculamos la norma inducida inicial\n",
    "    norm_induced = lp_matrix(np.dot(A, montecarlo_norm.T).T, p)\n",
    "    idx = (-norm_induced).argsort()[:2]\n",
    "\n",
    "    vector_a = montecarlo_norm[idx[0], :]\n",
    "    vector_b = montecarlo_norm[idx[1], :]\n",
    "\n",
    "    for j in range(max_iter):\n",
    "        points_alpha = np.random.random((dimension, samples))\n",
    "        points_beta = np.random.random((dimension, samples))\n",
    "\n",
    "        # Combinamos los vectores alpha y beta\n",
    "        combination = np.array([np.multiply(points_alpha[:, i], vector_a) + np.multiply(1-points_alpha[:, i], vector_b) for i in range(samples)]).reshape(-1, dimension)\n",
    "        combination_norm = combination / lp_matrix(combination, p).reshape(-1, 1)\n",
    "\n",
    "        # Calculamos la norma inducida con la combinación\n",
    "        norm_induced = lp_matrix(np.dot(A, combination_norm.T), p)\n",
    "        idx = (-norm_induced).argsort()[:2]\n",
    "\n",
    "        # Si la diferencia es pequeña, consideramos que hemos convergido\n",
    "        if np.abs(lp_vector(np.dot(A, combination_norm[idx[0], :]), p) - real_val) < 0.01:\n",
    "            print(j)\n",
    "            print(\"Numeric approach: \", lp_vector(np.dot(A, combination_norm[idx[0], :]), p), \" Vs. Real value: \", real_val)\n",
    "            return combination_norm[idx[0], :]\n",
    "        else:\n",
    "            if np.abs(lp_vector(np.dot(A, vector_a), p) - real_val) < np.abs(lp_vector(np.dot(A, combination_norm[idx[0], :]), p) - real_val):\n",
    "                vector_a = combination_norm[idx[0], :]\n",
    "                vector_b = combination_norm[idx[1], :]\n",
    "\n",
    "    print(j)\n",
    "    print(\"Numeric approach: \", lp_vector(np.dot(A, combination_norm[idx[0], :]), p), \" Vs. Real value: \", real_val)\n",
    "    return combination_norm[idx[0], :]\n"
   ]
  },
  {
   "cell_type": "code",
   "execution_count": 6,
   "metadata": {},
   "outputs": [
    {
     "name": "stdout",
     "output_type": "stream",
     "text": [
      "[[ 7 -8  3  9  7]\n",
      " [ 3 -4  6  1  3]\n",
      " [ 6 -8  3  3 -2]\n",
      " [-4  4 -8 -4 -3]\n",
      " [-2 -6  2  7  4]]\n",
      "Numeric approach:  18.686426644424806  Vs. Real value:  23.217533446013622\n",
      "vector method 1:  [0.29438254 0.00558819 0.56571753 0.65113849 0.41144871]\n",
      "999\n",
      "Numeric approach:  18.983754351293605  Vs. Real value:  23.217533446013622\n",
      "Vector method iterative:  [0.41634562 0.00402346 0.5155937  0.62216042 0.41679695]\n"
     ]
    }
   ],
   "source": [
    "A = np.random.randint(-10,10,(5,5))\n",
    "p = 2\n",
    "print(A)\n",
    "\n",
    "print(\"vector method 1: \", numeric_approach_lp_matrix_norm(A, p, 1000))\n",
    "\n",
    "print(\"Vector method iterative: \", iterative_numeric_approach_lp_matrix_norm(A, p, 1000, 1000))"
   ]
  },
  {
   "cell_type": "markdown",
   "metadata": {},
   "source": [
    "Usando el algoritmo del ítem anterior estime la norma inducida de\n",
    "ordenes 1, 2, 3 y ∞ para la matríz de Hilbert de tamaño 10 × 10, definida por $H_{10} = [h_{ij}] = \\frac{1}{i+j}$."
   ]
  },
  {
   "cell_type": "code",
   "execution_count": 18,
   "metadata": {},
   "outputs": [
    {
     "name": "stdout",
     "output_type": "stream",
     "text": [
      "Numeric approach:  1.7292343579570306  Vs. Real value:  2.9289682539682538\n",
      "vector method 1:  [0.22993203 0.19933105 0.10165035 0.13468446 0.09434681 0.01157474\n",
      " 0.03810378 0.05782165 0.11783053 0.0147246 ]\n",
      "999\n",
      "Numeric approach:  1.9305166925267283  Vs. Real value:  2.9289682539682538\n",
      "Vector method iterative:  [0.37105347 0.13422846 0.1362357  0.05320778 0.07499798 0.01038229\n",
      " 0.06458771 0.06514294 0.06971148 0.02045219]\n"
     ]
    }
   ],
   "source": [
    "#Matriz de Hilbert de orden 10\n",
    "H = np.array([[1/(i+j+1) for j in range(10)] for i in range(10)])\n",
    "\n",
    "#Estimacion norma 1\n",
    "p = 1\n",
    "\n",
    "print(\"vector method 1: \", numeric_approach_lp_matrix_norm(H, p, 1000))\n",
    "\n",
    "print(\"Vector method iterative: \", iterative_numeric_approach_lp_matrix_norm(H, p, 1000, 1000))"
   ]
  },
  {
   "cell_type": "code",
   "execution_count": 19,
   "metadata": {},
   "outputs": [
    {
     "name": "stdout",
     "output_type": "stream",
     "text": [
      "Numeric approach:  1.6878197299027358  Vs. Real value:  1.7519196702651776\n",
      "vector method 1:  [0.58385264 0.51158944 0.36261358 0.16969961 0.27545323 0.09057298\n",
      " 0.08373139 0.21059926 0.19944526 0.24876981]\n",
      "999\n",
      "Numeric approach:  1.7021909459662727  Vs. Real value:  1.7519196702651776\n",
      "Vector method iterative:  [0.61321693 0.56004294 0.29025925 0.20674626 0.12634658 0.1872607\n",
      " 0.24912564 0.23704849 0.10452766 0.05577478]\n"
     ]
    }
   ],
   "source": [
    "#Estimacion norma 2\n",
    "p = 2\n",
    "\n",
    "print(\"vector method 1: \", numeric_approach_lp_matrix_norm(H, p, 1000))\n",
    "\n",
    "print(\"Vector method iterative: \", iterative_numeric_approach_lp_matrix_norm(H, p, 1000, 1000))"
   ]
  },
  {
   "cell_type": "code",
   "execution_count": 21,
   "metadata": {},
   "outputs": [
    {
     "name": "stdout",
     "output_type": "stream",
     "text": [
      "Numeric approach:  2.5411736652410606  Vs. Real value:  2.9289682539682538\n",
      "vector method 1:  [0.99409425 1.         0.62519041 0.27404397 0.8919944  0.96473979\n",
      " 0.98541839 0.70196582 0.94692265 0.97249366]\n",
      "999\n",
      "Numeric approach:  2.51128058421513  Vs. Real value:  2.9289682539682538\n",
      "Vector method iterative:  [1.         0.92640483 0.98506107 0.97287308 0.61374259 0.13852289\n",
      " 0.92632303 0.82638635 0.46220708 0.43684043]\n"
     ]
    }
   ],
   "source": [
    "#Estimacion norma infinita\n",
    "p = \"inf\"\n",
    "\n",
    "print(\"vector method 1: \", numeric_approach_lp_matrix_norm(H, p, 1000))\n",
    "\n",
    "print(\"Vector method iterative: \", iterative_numeric_approach_lp_matrix_norm(H, p, 1000, 1000))"
   ]
  }
 ],
 "metadata": {
  "kernelspec": {
   "display_name": ".venv",
   "language": "python",
   "name": "python3"
  },
  "language_info": {
   "codemirror_mode": {
    "name": "ipython",
    "version": 3
   },
   "file_extension": ".py",
   "mimetype": "text/x-python",
   "name": "python",
   "nbconvert_exporter": "python",
   "pygments_lexer": "ipython3",
   "version": "3.10.12"
  },
  "orig_nbformat": 4
 },
 "nbformat": 4,
 "nbformat_minor": 2
}
