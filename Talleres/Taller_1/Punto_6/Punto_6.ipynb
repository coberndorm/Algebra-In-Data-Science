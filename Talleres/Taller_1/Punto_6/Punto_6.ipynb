{
 "cells": [
  {
   "cell_type": "code",
   "execution_count": 32,
   "metadata": {},
   "outputs": [],
   "source": [
    "import numpy as np"
   ]
  },
  {
   "cell_type": "code",
   "execution_count": 33,
   "metadata": {},
   "outputs": [],
   "source": [
    "def lp_matrix(x:np.ndarray, p=1) -> float:\n",
    "    if p == \"inf\":\n",
    "        return np.max(np.abs(x), axis = 1)\n",
    "    return np.sum(np.abs(x)**p, axis = 1)**(1/p)\n",
    "\n",
    "def lp_vector(x:np.ndarray, p=1) -> float:\n",
    "    if p == \"inf\":\n",
    "        return np.max(np.abs(x))\n",
    "    return np.sum(np.abs(x)**p)**(1/p)"
   ]
  },
  {
   "cell_type": "code",
   "execution_count": 49,
   "metadata": {},
   "outputs": [],
   "source": [
    "def numeric_approach_lp_matrix_norm(matrix, p, samples):\n",
    "    dimension = len(matrix)\n",
    "    montecarlo = np.random.random((samples, dimension))\n",
    "    \n",
    "    #normalize\n",
    "    montecarlo_norm = montecarlo/lp_matrix(montecarlo, p).reshape(-1, 1)\n",
    "\n",
    "    norm_induced = lp_matrix(np.dot(matrix, montecarlo_norm.T).T,p)\n",
    "    idx = np.argmax(norm_induced)\n",
    "\n",
    "    if p != \"inf\":\n",
    "        print(\"Numeric approach: \", lp_vector(np.dot(matrix,montecarlo_norm[idx,:]),p), \" Vs. Real value: \", np.linalg.norm(matrix, ord=p))\n",
    "    else:\n",
    "        print(\"Numeric approach: \", lp_vector(np.dot(matrix,montecarlo_norm[idx,:]),p), \" Vs. Real value: \", np.linalg.norm(matrix, ord=np.inf))\n",
    "    \n",
    "    return montecarlo_norm[idx,:]"
   ]
  },
  {
   "cell_type": "code",
   "execution_count": 98,
   "metadata": {},
   "outputs": [],
   "source": [
    "def iterative_numeric_approach_lp_matrix_norm(A, p, samples, max_iter = 500):\n",
    "    dimension = len(A)\n",
    "    if p != \"inf\":\n",
    "        real_val = np.linalg.norm(A, ord=p)\n",
    "    else:\n",
    "        real_val = np.linalg.norm(A, ord=np.inf)\n",
    "    \n",
    "    montecarlo = np.random.random((samples*10, dimension))\n",
    "\n",
    "    #normalize\n",
    "    montecarlo_norm = montecarlo/lp_matrix(montecarlo, p).reshape(-1, 1)\n",
    "\n",
    "    norm_induced = lp_matrix(np.dot(A, montecarlo_norm.T).T,p)\n",
    "    idx = (-norm_induced).argsort()[:2]\n",
    "\n",
    "    vector_a = montecarlo_norm[idx[0],:]\n",
    "    vector_b = montecarlo_norm[idx[1],:]\n",
    "\n",
    "\n",
    "    for j in range(max_iter):\n",
    "\n",
    "        points_alpha = np.random.random((dimension, samples)); points_beta = np.random.random((dimension, samples))\n",
    "\n",
    "        combination = np.array([np.multiply(points_alpha[:,i],vector_a) + np.multiply(1-points_alpha[:,i],vector_b) for i in range(samples)]).reshape(-1, dimension)\n",
    "        combination_norm = combination/lp_matrix(combination, p).reshape(-1, 1)\n",
    "        \n",
    "        norm_induced = lp_matrix(np.dot(A, combination_norm.T),p)\n",
    "        idx = (-norm_induced).argsort()[:2]\n",
    "\n",
    "        if np.abs(lp_vector(np.dot(A,combination_norm[idx[0],:]),p) - real_val) < 0.01:\n",
    "            print(j)\n",
    "            print(\"Numeric approach: \", lp_vector(np.dot(A,combination_norm[idx[0],:]),p), \" Vs. Real value: \", real_val)\n",
    "            return combination_norm[idx[0],:]\n",
    "        else:\n",
    "            if np.abs(lp_vector(np.dot(A,vector_a),p) - real_val) < np.abs(lp_vector(np.dot(A,combination_norm[idx[0],:]),p) - real_val):\n",
    "                vector_a = combination_norm[idx[0],:]\n",
    "                vector_b = combination_norm[idx[1],:]\n",
    "    \n",
    "    print(j)\n",
    "    print(\"Numeric approach: \", lp_vector(np.dot(A,combination_norm[idx[0],:]),p), \" Vs. Real value: \", real_val)\n",
    "    return combination_norm[idx[0],:]\n",
    "\n"
   ]
  },
  {
   "cell_type": "code",
   "execution_count": 103,
   "metadata": {},
   "outputs": [
    {
     "name": "stdout",
     "output_type": "stream",
     "text": [
      "[[-10   5   4  -6   3]\n",
      " [ -1  -4   1  -5   1]\n",
      " [  8   4  -7   4   7]\n",
      " [  1  -6  -7  -2   4]\n",
      " [  4  -9  -3   5  -8]]\n",
      "Numeric approach:  15.201910506575206  Vs. Real value:  19.501959001460722\n",
      "vector method 1:  [0.70764548 0.10402994 0.05563279 0.69562742 0.03772447]\n",
      "999\n",
      "Numeric approach:  15.492633722521848  Vs. Real value:  19.501959001460722\n",
      "Vector method iterative:  [0.04227157 0.811923   0.05515856 0.02119786 0.57922564]\n"
     ]
    }
   ],
   "source": [
    "A = np.random.randint(-10,10,(5,5))\n",
    "p = 2\n",
    "print(A)\n",
    "\n",
    "print(\"vector method 1: \", numeric_approach_lp_matrix_norm(A, p, 1000))\n",
    "\n",
    "print(\"Vector method iterative: \", iterative_numeric_approach_lp_matrix_norm(A, p, 1000, 1000))"
   ]
  },
  {
   "cell_type": "code",
   "execution_count": 101,
   "metadata": {},
   "outputs": [
    {
     "data": {
      "text/plain": [
       "array([  2,   3, -20,  -1, -21])"
      ]
     },
     "execution_count": 101,
     "metadata": {},
     "output_type": "execute_result"
    }
   ],
   "source": [
    "np.sum(A,axis=0)"
   ]
  }
 ],
 "metadata": {
  "kernelspec": {
   "display_name": ".venv",
   "language": "python",
   "name": "python3"
  },
  "language_info": {
   "codemirror_mode": {
    "name": "ipython",
    "version": 3
   },
   "file_extension": ".py",
   "mimetype": "text/x-python",
   "name": "python",
   "nbconvert_exporter": "python",
   "pygments_lexer": "ipython3",
   "version": "3.10.12"
  },
  "orig_nbformat": 4
 },
 "nbformat": 4,
 "nbformat_minor": 2
}
