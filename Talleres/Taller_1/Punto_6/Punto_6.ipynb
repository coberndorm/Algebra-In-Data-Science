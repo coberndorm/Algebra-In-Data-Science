{
 "cells": [
  {
   "cell_type": "code",
   "execution_count": 2,
   "metadata": {},
   "outputs": [],
   "source": [
    "import numpy as np"
   ]
  },
  {
   "cell_type": "code",
   "execution_count": 3,
   "metadata": {},
   "outputs": [],
   "source": [
    "# Función para calcular la norma \\(p\\) de una matriz \\(x\\) por filas\n",
    "def lp_matrix(x: np.ndarray, p=1) -> float:\n",
    "    if p == \"inf\":\n",
    "        return np.max(np.abs(x), axis=1)\n",
    "    return np.sum(np.abs(x)**p, axis=1)**(1/p)\n",
    "\n",
    "# Función para calcular la norma \\(p\\) de un vector \\(x\\)\n",
    "def lp_vector(x: np.ndarray, p=1) -> float:\n",
    "    if p == \"inf\":\n",
    "        return np.max(np.abs(x))\n",
    "    return np.sum(np.abs(x)**p)**(1/p)"
   ]
  },
  {
   "cell_type": "code",
   "execution_count": 10,
   "metadata": {},
   "outputs": [],
   "source": [
    "# Función que aproxima la norma \\(p\\) de una matriz \\(A\\) mediante muestreo Monte Carlo\n",
    "def numeric_approach_lp_matrix_norm(matrix, p, samples):\n",
    "    dimension = len(matrix)\n",
    "    montecarlo = np.random.random((samples, dimension))\n",
    "    \n",
    "    # Normalizamos los vectores de Montecarlo\n",
    "    montecarlo_norm = montecarlo / lp_matrix(montecarlo, p).reshape(-1, 1)\n",
    "\n",
    "    # Calculamos la norma inducida\n",
    "    norm_induced = lp_matrix(np.dot(matrix, montecarlo_norm.T).T, p)\n",
    "    idx = np.argmax(norm_induced)\n",
    "\n",
    "    # Comparamos con el valor real de la norma \\(p\\) de la matriz \\(A\\)\n",
    "    if p != \"inf\":\n",
    "        print(\"Numeric approach: \", lp_vector(np.dot(matrix, montecarlo_norm[idx, :]), p), \" Vs. Real value: \", np.linalg.norm(matrix, ord=p))\n",
    "    else:\n",
    "        print(\"Numeric approach: \", lp_vector(np.dot(matrix, montecarlo_norm[idx, :]), p), \" Vs. Real value: \", np.linalg.norm(matrix, ord=np.inf))\n",
    "    \n",
    "    return montecarlo_norm[idx, :]"
   ]
  },
  {
   "cell_type": "code",
   "execution_count": 11,
   "metadata": {},
   "outputs": [],
   "source": [
    "# Función que aproxima la norma (p) de una matriz (A) mediante un enfoque iterativo\n",
    "def iterative_numeric_approach_lp_matrix_norm(A, p, samples, max_iter=500):\n",
    "    dimension = len(A)\n",
    "    \n",
    "    if p != \"inf\":\n",
    "        real_val = np.linalg.norm(A, ord=p)\n",
    "    else:\n",
    "        real_val = np.linalg.norm(A, ord=np.inf)\n",
    "    \n",
    "    montecarlo = np.random.random((samples*10, dimension))\n",
    "\n",
    "    # Normalizamos los vectores de Montecarlo\n",
    "    montecarlo_norm = montecarlo / lp_matrix(montecarlo, p).reshape(-1, 1)\n",
    "\n",
    "    # Calculamos la norma inducida inicial\n",
    "    norm_induced = lp_matrix(np.dot(A, montecarlo_norm.T).T, p)\n",
    "    idx = (-norm_induced).argsort()[:2]\n",
    "\n",
    "    vector_a = montecarlo_norm[idx[0], :]\n",
    "    vector_b = montecarlo_norm[idx[1], :]\n",
    "\n",
    "    for j in range(max_iter):\n",
    "        points_alpha = np.random.random((dimension, samples))\n",
    "        points_beta = np.random.random((dimension, samples))\n",
    "\n",
    "        # Combinamos los vectores alpha y beta\n",
    "        combination = np.array([np.multiply(points_alpha[:, i], vector_a) + np.multiply(1-points_alpha[:, i], vector_b) for i in range(samples)]).reshape(-1, dimension)\n",
    "        combination_norm = combination / lp_matrix(combination, p).reshape(-1, 1)\n",
    "\n",
    "        # Calculamos la norma inducida con la combinación\n",
    "        norm_induced = lp_matrix(np.dot(A, combination_norm.T), p)\n",
    "        idx = (-norm_induced).argsort()[:2]\n",
    "\n",
    "        # Si la diferencia es pequeña, consideramos que hemos convergido\n",
    "        if np.abs(lp_vector(np.dot(A, combination_norm[idx[0], :]), p) - real_val) < 0.01:\n",
    "            print(j)\n",
    "            print(\"Iterative Numeric approach: \", lp_vector(np.dot(A, combination_norm[idx[0], :]), p), \" Vs. Real value: \", real_val)\n",
    "            return combination_norm[idx[0], :]\n",
    "        else:\n",
    "            if np.abs(lp_vector(np.dot(A, vector_a), p) - real_val) < np.abs(lp_vector(np.dot(A, combination_norm[idx[0], :]), p) - real_val):\n",
    "                vector_a = combination_norm[idx[0], :]\n",
    "                vector_b = combination_norm[idx[1], :]\n",
    "\n",
    "    print(j)\n",
    "    print(\"Iterative Numeric approach: \", lp_vector(np.dot(A, combination_norm[idx[0], :]), p), \" Vs. Real value: \", real_val)\n",
    "    return combination_norm[idx[0], :]\n"
   ]
  },
  {
   "cell_type": "code",
   "execution_count": 12,
   "metadata": {},
   "outputs": [
    {
     "name": "stdout",
     "output_type": "stream",
     "text": [
      "[[  5   1 -10   7   7]\n",
      " [-10  -1  -8   5 -10]\n",
      " [ -6   2   0   6   9]\n",
      " [  5  -2   2  -1   5]\n",
      " [ -7   4   7  -8   9]]\n",
      "Numeric approach:  19.58030191972168  Vs. Real value:  21.02320500645222\n",
      "vector method 1:  [0.22051183 0.15939952 0.56390183 0.0176827  0.77953086]\n",
      "999\n",
      "Iterative Numeric approach:  19.629161503374533  Vs. Real value:  21.02320500645222\n",
      "Vector method iterative:  [0.18005283 0.24234921 0.43104469 0.03189246 0.84972418]\n"
     ]
    }
   ],
   "source": [
    "A = np.random.randint(-10,10,(5,5))\n",
    "p = 2\n",
    "print(A)\n",
    "\n",
    "print(\"vector method 1: \", numeric_approach_lp_matrix_norm(A, p, 1000))\n",
    "\n",
    "print(\"Vector method iterative: \", iterative_numeric_approach_lp_matrix_norm(A, p, 1000, 1000))"
   ]
  },
  {
   "cell_type": "markdown",
   "metadata": {},
   "source": [
    "Usando el algoritmo del ítem anterior estime la norma inducida de\n",
    "ordenes 1, 2, 3 y ∞ para la matríz de Hilbert de tamaño 10 × 10, definida por $H_{10} = [h_{ij}] = \\frac{1}{i+j}$."
   ]
  },
  {
   "cell_type": "code",
   "execution_count": 13,
   "metadata": {},
   "outputs": [
    {
     "name": "stdout",
     "output_type": "stream",
     "text": [
      "Numeric approach:  1.7612193295101093  Vs. Real value:  2.9289682539682538\n",
      "vector method 1:  [0.28683157 0.01854333 0.22432508 0.22875937 0.00961482 0.07091147\n",
      " 0.03255525 0.03629519 0.06866976 0.02349417]\n",
      "999\n",
      "Iterative Numeric approach:  1.8416297328468967  Vs. Real value:  2.9289682539682538\n",
      "Vector method iterative:  [0.30549026 0.20489988 0.06454645 0.06220126 0.10061539 0.01186652\n",
      " 0.11315769 0.06482484 0.06268405 0.00971366]\n"
     ]
    }
   ],
   "source": [
    "#Matriz de Hilbert de orden 10\n",
    "H = np.array([[1/(i+j+1) for j in range(10)] for i in range(10)])\n",
    "\n",
    "#Estimacion norma 1\n",
    "p = 1\n",
    "\n",
    "print(\"vector method 1: \", numeric_approach_lp_matrix_norm(H, p, 1000))\n",
    "\n",
    "print(\"Vector method iterative: \", iterative_numeric_approach_lp_matrix_norm(H, p, 1000, 1000))"
   ]
  },
  {
   "cell_type": "code",
   "execution_count": 14,
   "metadata": {},
   "outputs": [
    {
     "name": "stdout",
     "output_type": "stream",
     "text": [
      "Numeric approach:  1.6719363221373684  Vs. Real value:  1.7519196702651776\n",
      "vector method 1:  [0.58448069 0.36954789 0.39595526 0.2282977  0.11841353 0.39229218\n",
      " 0.22052194 0.16243017 0.24793518 0.09228222]\n",
      "999\n",
      "Iterative Numeric approach:  1.710815233529692  Vs. Real value:  1.7519196702651776\n",
      "Vector method iterative:  [0.59512714 0.40304965 0.38675427 0.27056278 0.22602555 0.31616831\n",
      " 0.13508629 0.24372761 0.08064476 0.15933175]\n"
     ]
    }
   ],
   "source": [
    "#Estimacion norma 2\n",
    "p = 2\n",
    "\n",
    "print(\"vector method 1: \", numeric_approach_lp_matrix_norm(H, p, 1000))\n",
    "\n",
    "print(\"Vector method iterative: \", iterative_numeric_approach_lp_matrix_norm(H, p, 1000, 1000))"
   ]
  },
  {
   "cell_type": "code",
   "execution_count": 15,
   "metadata": {},
   "outputs": [
    {
     "name": "stdout",
     "output_type": "stream",
     "text": [
      "Numeric approach:  2.4862498190447204  Vs. Real value:  2.9289682539682538\n",
      "vector method 1:  [1.         0.82938722 0.9954454  0.97843136 0.43633171 0.69330811\n",
      " 0.52764932 0.41682243 0.90470819 0.64311134]\n",
      "999\n",
      "Iterative Numeric approach:  2.621417140275269  Vs. Real value:  2.9289682539682538\n",
      "Vector method iterative:  [0.96820866 0.8667487  0.876524   0.8913758  0.75866457 0.96648442\n",
      " 0.68210715 0.8267288  0.82095192 1.        ]\n"
     ]
    }
   ],
   "source": [
    "#Estimacion norma infinita\n",
    "p = \"inf\"\n",
    "\n",
    "print(\"vector method 1: \", numeric_approach_lp_matrix_norm(H, p, 1000))\n",
    "\n",
    "print(\"Vector method iterative: \", iterative_numeric_approach_lp_matrix_norm(H, p, 1000, 1000))"
   ]
  }
 ],
 "metadata": {
  "kernelspec": {
   "display_name": ".venv",
   "language": "python",
   "name": "python3"
  },
  "language_info": {
   "codemirror_mode": {
    "name": "ipython",
    "version": 3
   },
   "file_extension": ".py",
   "mimetype": "text/x-python",
   "name": "python",
   "nbconvert_exporter": "python",
   "pygments_lexer": "ipython3",
   "version": "3.10.12"
  },
  "orig_nbformat": 4
 },
 "nbformat": 4,
 "nbformat_minor": 2
}
