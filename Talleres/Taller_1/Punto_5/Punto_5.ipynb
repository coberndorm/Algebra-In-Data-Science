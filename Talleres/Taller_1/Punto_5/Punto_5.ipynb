{
 "cells": [
  {
   "cell_type": "code",
   "execution_count": 2,
   "metadata": {},
   "outputs": [],
   "source": [
    "import numpy as np"
   ]
  },
  {
   "cell_type": "markdown",
   "metadata": {},
   "source": [
    "Demostración $\\|A\\|_1 = \\max _{1 \\leq i \\leq m} \\sum_{j=1}^n\\left|a_{i j}\\right|$:\n",
    "\n",
    "Sea $\\alpha=\\max _{1 \\leq j \\leq n} \\sum_{i=1}^m\\left|a_{i j}\\right|$.\n",
    "\n",
    "Tenemos que\n",
    "$$\n",
    "\\begin{aligned}\n",
    "& \\forall x \\in K^n \\quad\\|A x\\|_1=\\sum_{i=1}^m\\left|\\sum_{j=1}^n a_{i j} x_j\\right| \\leq \\sum_{i=1}^m \\sum_{j=1}^n\\left|a_{i j}\\right|\\left|x_j\\right|=\\sum_{j=1}^n\\left(\\left|x_j\\right| \\sum_{i=m}^n\\left|a_{i j}\\right|\\right) \\leq \\sum_{j=1}^n\\left|x_j\\right| \\alpha=\\alpha \\sum_{j=1}^n\\left|x_j\\right|=\\alpha\\|x\\|_1 \\Rightarrow \\\\\n",
    "& \\Rightarrow \\frac{\\|A x\\|_1}{\\|x\\|_1} \\leq \\alpha \\quad \\forall x \\in K^n \\backslash\\{0\\} \\Rightarrow\\|A\\|_1 \\leq \\alpha\n",
    "\\end{aligned}\n",
    "$$\n",
    "Por otro lado, tomando $z=e_k$ el $k$-ésimo vector de la base canónica de $K^n$, con $k=\\arg \\max _{1 \\leq j \\leq n} \\sum_{i=1}^m\\left|a_{i j}\\right|$, tenemos que\n",
    "$$\n",
    "\\frac{\\|A z\\|_1}{\\|z\\|_1}=\\frac{\\sum_{j=1}^n\\left|a_{k i}\\right|}{1} \\stackrel{\\text { def } k}{=} \\alpha \\stackrel{\\text { def. norma inducida }}{\\Rightarrow}\\|A\\|_1 \\geq \\alpha\n",
    "$$\n",
    "Por todo esto, $\\|A\\|_1=\\alpha=\\max _{1 \\leq j \\leq n} \\sum_{i=1}^m\\left|a_{i j}\\right|$\n",
    "$\\|A\\|_{\\infty}=\\max _{1 \\leq i \\leq m} \\sum_{j=1}^n\\left|a_{i j}\\right|$, que es simplemente la máxima suma absoluta de las filas de la matriz.\n",
    "\n",
    "\n"
   ]
  },
  {
   "cell_type": "code",
   "execution_count": 5,
   "metadata": {},
   "outputs": [
    {
     "name": "stdout",
     "output_type": "stream",
     "text": [
      "18\n",
      "18.0\n"
     ]
    }
   ],
   "source": [
    "A = np.array([[1,2,3],\n",
    "             [4,5,6],\n",
    "             [7,8,9]])\n",
    "\n",
    "print(max(np.sum(A, axis=0)))\n",
    "print(np.linalg.norm(A, ord=1))"
   ]
  },
  {
   "cell_type": "markdown",
   "metadata": {},
   "source": [
    "Demostración $\\|A\\|_{\\infty}=\\max _{1 \\leq i \\leq m} \\sum_{j=1}^n\\left|a_{i j}\\right|$:\n",
    "\n",
    "Sea $\\beta=\\max _{1 \\leq i \\leq m} \\sum_{j=1}^n\\left|a_{i j}\\right|$. \n",
    "\n",
    "Tenemos que\n",
    "$$\n",
    "\\begin{aligned}\n",
    "& \\forall x \\in K^n \\quad\\|A x\\|_{\\infty}=\\max _{1 \\leq i \\leq m}\\left|\\sum_{j=1}^n a_{i j} x_j\\right| \\leq \\max _{1 \\leq i \\leq m}\\left|\\sum_{j=1}^n a_{i j}\\|x\\|_{\\infty}\\right| \\leq \\max _{1 \\leq i \\leq m} \\sum_{j=1}^n\\left|a_{i j}\\right|\\|x\\|_{\\infty}=\\|x\\|_{\\infty} \\max _{1 \\leq i \\leq m} \\sum_{j=1}^n\\left|a_{i j}\\right|=\\|x\\|_{\\infty} \\beta \\Rightarrow \\\\\n",
    "& \\Rightarrow \\frac{\\|A x\\|_{\\infty}}{\\|x\\|_{\\infty}} \\leq \\beta \\quad \\forall x \\in K^n \\backslash\\{0\\} \\Rightarrow\\|A\\|_{\\infty} \\leq \\beta \\text { Por otro lado, si definimos } k=\\arg \\max _{1 \\leq i \\leq m} \\sum_{j=1}^n\\left|a_{i j}\\right| \\text { y definimos } \\\\\n",
    "& z=\\left(\\begin{array}{c}\n",
    "\\sigma\\left(a_{k 1}\\right) \\\\\n",
    "\\vdots \\\\\n",
    "\\sigma\\left(a_{k n}\\right)\n",
    "\\end{array}\\right) \\text {, tenemos que }\\|z\\|_{\\infty}=1 \\text { y } A z=\\left(\\begin{array}{c}\n",
    "\\sum_{j=1}^n \\sigma\\left(a_{k j}\\right) a_{1 j} \\\\\n",
    "\\vdots \\\\\n",
    "\\sum_{j=1}^n \\sigma\\left(a_{k j}\\right) a_{n j}\n",
    "\\end{array}\\right) \\text {, por lo que } \\\\\n",
    "& (A z)_i=\\sum_{j=1}^m \\sigma\\left(a_{k j}\\right) a_{i j} \\leq \\sum_{j=1}^m \\sigma\\left(a_{k j}\\right) a_{i j}=\\sum_{j=1}^m\\left|a_{i j}\\right| \\stackrel{\\operatorname{def} \\beta}{\\leq} \\beta=\\max _{1 \\leq i \\leq m} \\sum_{j=1}^n\\left|a_{i j}\\right| \\stackrel{\\text { def }}{=} \\sum_{j=1}^m\\left|a_{k j}\\right|=\\sum_{j=1}^m \\sigma\\left(a_{k j}\\right) a_{k j}=(A z)_k \\\\\n",
    "& \\mathrm{y}(A z)_i=\\sum_{j=1}^m \\sigma\\left(a_{k j}\\right) a_{i j} \\geq \\sum_{j=1}^m-\\sigma\\left(a_{i j}\\right) a_{i j}=-\\sum_{j=1}^m\\left|a_{i j}\\right| \\geq-\\sum_{j=1}^m\\left|a_{k j}\\right|=-(A z)_k \\text {. Así, }\\left|(A z)_i\\right| \\leq\\left|(A z)_k\\right| \\quad \\forall i \\\\\n",
    "& \\text { y, por tanto, } \\frac{\\|A z\\|_{\\infty}}{\\|z\\|_{\\infty}}=\\max _{1 \\leq i \\leq m}\\left|(A z)_i\\right|=(A z)_k=\\beta \\Rightarrow\\|A\\|_{\\infty} \\geq \\beta \\text {. Por todo esto, }\\|A\\|_{\\infty}=\\beta=\\max _{1 \\leq i \\leq m} \\sum_{j=1}^n\\left|a_{i j}\\right| \\\\\n",
    "&\n",
    "\\end{aligned}\n",
    "$$"
   ]
  },
  {
   "cell_type": "code",
   "execution_count": 7,
   "metadata": {},
   "outputs": [
    {
     "name": "stdout",
     "output_type": "stream",
     "text": [
      "24\n",
      "24.0\n"
     ]
    }
   ],
   "source": [
    "A = np.array([[1,2,3],\n",
    "             [4,5,6],\n",
    "             [7,8,9]])\n",
    "\n",
    "print(max(np.sum(A, axis=1)))\n",
    "print(np.linalg.norm(A, ord=np.inf))"
   ]
  }
 ],
 "metadata": {
  "kernelspec": {
   "display_name": ".venv",
   "language": "python",
   "name": "python3"
  },
  "language_info": {
   "codemirror_mode": {
    "name": "ipython",
    "version": 3
   },
   "file_extension": ".py",
   "mimetype": "text/x-python",
   "name": "python",
   "nbconvert_exporter": "python",
   "pygments_lexer": "ipython3",
   "version": "3.10.12"
  },
  "orig_nbformat": 4
 },
 "nbformat": 4,
 "nbformat_minor": 2
}
