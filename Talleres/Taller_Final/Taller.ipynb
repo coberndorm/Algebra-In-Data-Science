{
 "cells": [
  {
   "cell_type": "markdown",
   "metadata": {},
   "source": [
    "# Problema 1"
   ]
  },
  {
   "cell_type": "markdown",
   "metadata": {},
   "source": [
    "## 1.\n",
    "Sea $\\Omega$ un conjunto finito. Demuestre que la distancia Jaccard en $\\wp(\\Omega)$ definida como\n",
    "$$\n",
    "d(A, B):=\\frac{|A \\triangle B|}{|A \\cup B|},\n",
    "$$\n",
    "define una métrica."
   ]
  },
  {
   "cell_type": "markdown",
   "metadata": {},
   "source": [
    "### Demostracion\n",
    "\n",
    "Para demostrar que la distancia de Jaccard es una metrica se deben demostrar que cumple las siguentes propiedades:\n",
    "\n",
    "1. No-negatividad: $d(A,B) \\geq 0$ para todo $A,B \\in \\wp(\\Omega)$\n",
    "2. Coincidencia: $d(A,B) = 0$ si y solo si $A = B$\n",
    "3. Simetria: $d(A,B) = d(B,A)$ para todo $A,B \\in \\wp(\\Omega)$\n",
    "4. Desigualdad Triangular: $d(A,B) \\leq d(A,C) + d(C,B)$ para todo $A,B,C \\in \\wp(\\Omega)$\n",
    "\n",
    "Demostacion:\n",
    "\n",
    "1. **No-negatividad**:\n",
    "    $$\n",
    "    d(A,B) = \\frac{|A \\triangle B|}{|A \\cup B|} \\geq 0\n",
    "    $$\n",
    "    Dado a que tanto el numerador como el denominador son positivos\n",
    "\n",
    "2. **Coincidencia**:\n",
    "\n",
    "$$\n",
    "d(A,B) = 0 \\iff |A \\triangle B| = 0 \\iff A = B\n",
    "$$\n",
    "\n",
    "3. **Simetria**:\n",
    "\n",
    "$$\n",
    "d(A,B) = \\frac{|A \\triangle B|}{|A \\cup B|} = \\frac{|B \\triangle A|}{|B \\cup A|} = d(B,A)\n",
    "$$\n",
    "\n",
    "4. **Desigualdad Triangular**:\n",
    "\n",
    "    $$\n",
    "    d(A,B) = \\frac{|A \\triangle B|}{|A \\cup B|} \\leq \\frac{|A \\triangle C| + |C \\triangle B|}{|A \\cup C| + |C \\cup B|} \\leq \\frac{|A \\triangle C|}{|A \\cup C|} + \\frac{|C \\triangle B|}{|C \\cup B|} = d(A,C) + d(C,B)\n",
    "    $$\n",
    "\n",
    "Por tanto la distancia de Jaccard si es una metrica\n",
    "\n",
    "--------------------------"
   ]
  },
  {
   "cell_type": "markdown",
   "metadata": {},
   "source": [
    "\n",
    "## 2.\n",
    " Sea $Q$ una matriz tal que $Q^t Q=I$, demuestre que $Q$ preserva magnitudes y ángulos respecto al producto punto."
   ]
  },
  {
   "cell_type": "markdown",
   "metadata": {},
   "source": [
    "### Demostracion\n",
    "\n",
    "Dado que $Q^t Q = I$, la matriz $Q$ es una matriz ortogonal.\n",
    "\n",
    "**Preservación de magnitudes:**\n",
    "\n",
    "Para demostrar que $Q$ preserva magnitudes, consideremos un vector $v$, y su imágenes bajo la aplicación de $Q$, denotada como $Qv$. Queremos demostrar que $\\|Qv\\| = \\|v\\|.\n",
    "\n",
    "$$||Qv||^2 = (Qv)^t(Qv) = v^t Q^t Qv = v^t Iv = v^t v = ||v||^2$$\n",
    "\n",
    "Por lo tanto, $Q$ preserva magnitudes.\n",
    "\n",
    "**Preservación de ángulos:**\n",
    "\n",
    "Para demostrar que $Q$ preserva ángulos, consideremos dos vectores $v$ y $w$ con ángulo $\\theta$ entre ellos. Queremos demostrar que el ángulo entre $Qv$ y $Qw$ también es $\\theta$.\n",
    "\n",
    "$$ \\cos(\\theta) = \\frac{v \\cdot w}{||v|| \\cdot ||w||} $$\n",
    "\n",
    "Ahora, consideremos $Qv \\cdot Qw$:\n",
    "\n",
    "$$ Qv \\cdot Qw = (Qv)^t(Qw) = v^t Q^t Qw = v^t I w = v \\cdot w $$\n",
    "\n",
    "Dividimos ambos lados por \\(||Qv|| \\cdot ||Qw||\\), por la preservacion de magnitudes:\n",
    "\n",
    "$$ \\cos(\\theta) = \\frac{Qv \\cdot Qw}{||Qv|| \\cdot ||Qw||} $$\n",
    "\n",
    "Por lo tanto $Q$ preserva angulos.\n",
    "\n",
    "-----------"
   ]
  },
  {
   "cell_type": "markdown",
   "metadata": {},
   "source": [
    "## 3. \n",
    "Demuestre que la norma matricial inducida por la norma euclidiana es igual a el mayor valor singular."
   ]
  },
  {
   "cell_type": "markdown",
   "metadata": {},
   "source": [
    "### Demostracion\n",
    "\n",
    "Sea A una matriz de tamaño $m \\times n$. La norma inducida se define como:\n",
    "\n",
    "$$||A|| = \\sup \\{ ||Ax|| : ||x|| = 1 \\}$$\n",
    "\n",
    "Ahora, consideremos lo siguiente:\n",
    "\n",
    "$$||Ax||^2 = (Ax)^T(Ax) = x^T(A^TA)x$$\n",
    "\n",
    "Dado que $A^TA$ es una matriz simétrica definida positiva, su descomposicion en valores singulares tiene la siguiente forma $ A = V \\Sigma V^T$, donde:\n",
    "- $\\Sigma$ es una matriz diagonal de tamaño $m \\times n$ con los valores singulares en la diagonal, y\n",
    "- $V$ es una matriz ortogonal de tamaño $n \\times n$.\n",
    "\n",
    "Por tanto se tiene que:\n",
    "$$x^T(A^TA)x = x^T (V \\Sigma V^T)x$$\n",
    "Ahora definimos $V^T x = y$ obtenemos la expresion:\n",
    "$$x^T V \\Sigma V^T x = y^T \\Sigma y =  \\sum_i \\lambda_i y_i^2$$\n",
    "Esto implica que:\n",
    "$$\\|Ax\\|^2 \\leq \\lambda_{max} y^Ty = \\lambda_{max} x^TV^TVx = \\lambda_{max} $$\n",
    "Esto anterior se debe a que $V^TV = I$ al $V$ ser ortogonal y por la definición de $x$ tenemos que $\\|x\\| = x^Tx = 1$\n",
    "\n",
    "Para finalizar la demostracion tomamos a $x = v_{max}$ donde $v_{max}$ es el autovector correspondiente al mayor autovalor. De esta manera se obtiene que $\\|Ax\\|^2 = \\lambda_{max}$. \n",
    "\n",
    "Finalmente tenemos entonces que $\\|A\\|_2 = \\sqrt{\\lambda_{max} (A^TA)}$. O que la norma eculideana inducida es igual al mayor valor singular de una matriz"
   ]
  },
  {
   "cell_type": "markdown",
   "metadata": {},
   "source": [
    "# Problema 2"
   ]
  },
  {
   "cell_type": "markdown",
   "metadata": {},
   "source": [
    "1. Implemente un algoritmo para calcular los valores y vectores propios de una matriz simétrica $A$ a partir de la siguiente idea:\n",
    "Inicie con $A_0=A$, en el paso $k$ calcule la descomposición QR de $A_k=Q_k R_k$ y defina $A_{k+1}=R_k Q_k$."
   ]
  },
  {
   "cell_type": "code",
   "execution_count": 3,
   "metadata": {},
   "outputs": [],
   "source": [
    "import numpy as np\n",
    "\n",
    "def symmetrical_matrix_eigenvectors(matrix, tolerance):\n",
    "    A_k = matrix\n",
    "    Q_total = np.eye(A_k.shape[0])\n",
    "\n",
    "    while True:     \n",
    "        Q,R = np.linalg.qr(A_k)\n",
    "\n",
    "        if np.linalg.norm(A_k - np.dot(R,Q)) < tolerance:\n",
    "            return np.diag(A_k), -Q_total\n",
    "        \n",
    "        A_k = np.dot(R,Q)\n",
    "        Q_total = np.dot(Q_total, Q)\n",
    "        "
   ]
  },
  {
   "cell_type": "code",
   "execution_count": 35,
   "metadata": {},
   "outputs": [],
   "source": [
    "A = np.array([[1,2,3,4],\n",
    "              [4,5,6,7],\n",
    "              [7,8,7,6],\n",
    "              [4,2,3,4]]) * 0.1\n",
    "\n",
    "A = A @ A.T\n",
    "\n",
    "eig_val, eig_vec = symmetrical_matrix_eigenvectors(A, 0.00001)"
   ]
  },
  {
   "cell_type": "code",
   "execution_count": 32,
   "metadata": {},
   "outputs": [
    {
     "data": {
      "text/plain": [
       "array([[-1.01, -0.06, -0.01,  0.  ],\n",
       "       [-2.19, -0.05, -0.01, -0.  ],\n",
       "       [-2.74,  0.06, -0.01,  0.  ],\n",
       "       [-1.27, -0.01,  0.03,  0.  ]])"
      ]
     },
     "execution_count": 32,
     "metadata": {},
     "output_type": "execute_result"
    }
   ],
   "source": [
    "np.round(eig_vec@np.diag(A_k),2)"
   ]
  },
  {
   "cell_type": "code",
   "execution_count": 34,
   "metadata": {},
   "outputs": [
    {
     "data": {
      "text/plain": [
       "array([[-1.01, -0.06, -0.01,  0.  ],\n",
       "       [-2.19, -0.05, -0.01, -0.  ],\n",
       "       [-2.74,  0.06, -0.01, -0.  ],\n",
       "       [-1.27, -0.01,  0.03, -0.  ]])"
      ]
     },
     "execution_count": 34,
     "metadata": {},
     "output_type": "execute_result"
    }
   ],
   "source": [
    "np.round(A@eig_vec,2)"
   ]
  },
  {
   "cell_type": "code",
   "execution_count": 5,
   "metadata": {},
   "outputs": [
    {
     "data": {
      "text/plain": [
       "(array([3.86, 0.1 , 0.  , 0.03]),\n",
       " array([[-0.26, -0.59,  0.72, -0.25],\n",
       "        [-0.57, -0.48, -0.65, -0.15],\n",
       "        [-0.71,  0.64,  0.2 , -0.22],\n",
       "        [-0.33, -0.09,  0.13,  0.93]]))"
      ]
     },
     "execution_count": 5,
     "metadata": {},
     "output_type": "execute_result"
    }
   ],
   "source": [
    "np.round(np.linalg.eig(A)[0],2), np.round(np.linalg.eig(A)[1],2)"
   ]
  },
  {
   "cell_type": "code",
   "execution_count": 6,
   "metadata": {},
   "outputs": [
    {
     "data": {
      "text/plain": [
       "(array([3.86, 0.1 , 0.03, 0.  ]),\n",
       " array([[-0.26, -0.59, -0.25,  0.72],\n",
       "        [-0.57, -0.48, -0.15, -0.65],\n",
       "        [-0.71,  0.64, -0.22,  0.2 ],\n",
       "        [-0.33, -0.09,  0.93,  0.13]]))"
      ]
     },
     "execution_count": 6,
     "metadata": {},
     "output_type": "execute_result"
    }
   ],
   "source": [
    "np.round(A_k,2), np.round(Q,2)"
   ]
  },
  {
   "cell_type": "markdown",
   "metadata": {},
   "source": [
    "Este algoritmo es como una version mas sofisticada del algoritmo de potencias hecho en talleres anteriories. Recordemos la definicion de los autovalores y autovectores:\n",
    "$$ A v = A \\lambda$$ donde $v$ es un autovector y $\\lambda$ un autovalor. Como se utiliza descomposicion QR para renormalizar Y ortogonalizar la matriz cada vez se esta funcionando con una base de vectores completa. Tambien hay que considerar que estamos trabajando con una matriz simetrica $A$, por tanto "
   ]
  },
  {
   "cell_type": "markdown",
   "metadata": {},
   "source": [
    "---------"
   ]
  },
  {
   "cell_type": "markdown",
   "metadata": {},
   "source": [
    "2. Cálcule los valores propios y los valores singulares para las siguientes matrices:\n",
    "$$\n",
    "A=\\left(\\begin{array}{llll}\n",
    "0 & 1 & 0 & 0 \\\\\n",
    "0 & 0 & 2 & 0 \\\\\n",
    "0 & 0 & 0 & 3 \\\\\n",
    "0 & 0 & 0 & 0\n",
    "\\end{array}\\right) \\quad B=\\left(\\begin{array}{cccc}\n",
    "0 & 1 & 0 & 0 \\\\\n",
    "0 & 0 & 2 & 0 \\\\\n",
    "0 & 0 & 0 & 3 \\\\\n",
    "0.001 & 0 & 0 & 0\n",
    "\\end{array}\\right)\n",
    "$$"
   ]
  },
  {
   "cell_type": "code",
   "execution_count": 17,
   "metadata": {},
   "outputs": [],
   "source": [
    "A = np.array([[0,1,0,0],\n",
    "             [0,0,2,0],\n",
    "             [0,0,0,3],\n",
    "             [0,0,0,0]])\n",
    "\n",
    "B = np.array([[0,1,0,0],\n",
    "            [0,0,2,0],\n",
    "            [0,0,0,3],\n",
    "            [0.001,0,0,0]])\n"
   ]
  },
  {
   "cell_type": "code",
   "execution_count": 18,
   "metadata": {},
   "outputs": [
    {
     "name": "stdout",
     "output_type": "stream",
     "text": [
      "Valores Singulares de A: [3. 2. 1. 0.]\n",
      "Valores Singulares de B: [3.e+00 2.e+00 1.e+00 1.e-03]\n"
     ]
    }
   ],
   "source": [
    "singular_values_A = np.linalg.svd(A, compute_uv=False)\n",
    "singular_values_B = np.linalg.svd(B, compute_uv=False)\n",
    "\n",
    "print(\"Valores Singulares de A:\", singular_values_A)\n",
    "print(\"Valores Singulares de B:\", singular_values_B)"
   ]
  },
  {
   "cell_type": "markdown",
   "metadata": {},
   "source": [
    "Como ambas matrices tienen 0 en todos los valores de cada fila menos uno, los valores singulares son los mismos."
   ]
  },
  {
   "cell_type": "code",
   "execution_count": 19,
   "metadata": {},
   "outputs": [
    {
     "name": "stdout",
     "output_type": "stream",
     "text": [
      "Valores Propios de A: [0. 0. 0. 0.]\n",
      "Valores Propios de B: [-0.28+0.j   -0.  +0.28j -0.  -0.28j  0.28+0.j  ]\n"
     ]
    }
   ],
   "source": [
    "eigenvalues_A = np.round(np.linalg.eigvals(A), 2)\n",
    "eigenvalues_B = np.round(np.linalg.eigvals(B), 2)\n",
    "\n",
    "print(\"Valores Propios de A:\", eigenvalues_A)\n",
    "print(\"Valores Propios de B:\", eigenvalues_B)\n"
   ]
  },
  {
   "cell_type": "markdown",
   "metadata": {},
   "source": [
    "Como no es una matriz diagonal y tiene tanto 0 los valores obtenidos son imaginarios para B y para A por fuera de un rango menor que el tamaño y la primera fila es 0 en su totalidad, los autovalores son 0, sin embargo si se cambian las matrices a que sean diagonales mediante un cambio de la ultima fila a la primera, de la siguiente forma, se pueden calcular los autovalores y estos seran iguales a los valores singulares calculados anteriormente."
   ]
  },
  {
   "cell_type": "code",
   "execution_count": 22,
   "metadata": {},
   "outputs": [
    {
     "name": "stdout",
     "output_type": "stream",
     "text": [
      "Valores Propios de A: [0. 1. 2. 3.]\n",
      "Valores Propios de B: [1.e-03 1.e+00 2.e+00 3.e+00]\n"
     ]
    }
   ],
   "source": [
    "A = np.array([[0,0,0,0],\n",
    "              [0,1,0,0],\n",
    "             [0,0,2,0],\n",
    "             [0,0,0,3]])\n",
    "\n",
    "B = np.array([[0.001,0,0,0],\n",
    "              [0,1,0,0],\n",
    "              [0,0,2,0],\n",
    "              [0,0,0,3]])\n",
    "\n",
    "eigenvalues_A = np.linalg.eigvals(A)\n",
    "eigenvalues_B = np.linalg.eigvals(B)\n",
    "\n",
    "print(\"Valores Propios de A:\", eigenvalues_A)\n",
    "print(\"Valores Propios de B:\", eigenvalues_B)"
   ]
  },
  {
   "cell_type": "markdown",
   "metadata": {},
   "source": [
    "# Problema 3"
   ]
  },
  {
   "cell_type": "code",
   "execution_count": null,
   "metadata": {},
   "outputs": [],
   "source": []
  }
 ],
 "metadata": {
  "kernelspec": {
   "display_name": ".venv",
   "language": "python",
   "name": "python3"
  },
  "language_info": {
   "codemirror_mode": {
    "name": "ipython",
    "version": 3
   },
   "file_extension": ".py",
   "mimetype": "text/x-python",
   "name": "python",
   "nbconvert_exporter": "python",
   "pygments_lexer": "ipython3",
   "version": "3.10.12"
  }
 },
 "nbformat": 4,
 "nbformat_minor": 2
}
