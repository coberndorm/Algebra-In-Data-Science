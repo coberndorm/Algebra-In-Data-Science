{
 "cells": [
  {
   "cell_type": "code",
   "execution_count": 1,
   "metadata": {},
   "outputs": [],
   "source": [
    "import numpy as np"
   ]
  },
  {
   "cell_type": "code",
   "execution_count": 2,
   "metadata": {},
   "outputs": [],
   "source": [
    "def sustitucion_hacia_adelante(L, b):\n",
    "    n = len(L)\n",
    "    x = np.zeros(n)  # Creamos un vector de soluciones inicializado con ceros\n",
    "    \n",
    "    for i in range(n):\n",
    "        suma = 0.0\n",
    "        for j in range(i):\n",
    "            suma += L[i][j] * x[j]\n",
    "        x[i] = (b[i] - suma) / L[i][i]\n",
    "    \n",
    "    return x"
   ]
  },
  {
   "cell_type": "code",
   "execution_count": 6,
   "metadata": {},
   "outputs": [],
   "source": [
    "def forward_substitution(L, b):\n",
    "    \"\"\"\n",
    "    Resuelve el sistema lineal Lx = b, donde L es una matriz triangular inferior.\n",
    "    \n",
    "    Args:\n",
    "    L (numpy.ndarray): La matriz triangular inferior.\n",
    "    b (numpy.ndarray): El vector de términos independientes.\n",
    "\n",
    "    Returns:\n",
    "    x (numpy.ndarray): La solución del sistema.\n",
    "    null_space_basis (numpy.ndarray): La base para el espacio nulo de L (si es infinito).\n",
    "    \"\"\"\n",
    "    n = L.shape[0]  # Tamaño de la matriz L\n",
    "    x = np.zeros(n)  # Inicializar el vector de solución\n",
    "\n",
    "    null_space_basis = None\n",
    "\n",
    "    for i in range(n):\n",
    "        if L[i, i] == 0:\n",
    "            # Si un elemento diagonal es cero, el sistema tiene infinitas soluciones.\n",
    "            # En este caso, encontramos una solución particular y una base para el espacio nulo.\n",
    "            null_space_basis = np.zeros((n, n))\n",
    "            null_space_basis[i:, i] = 1\n",
    "            return x, null_space_basis\n",
    "\n",
    "        x[i] = b[i] / L[i, i]  # Calcular el valor de la variable i-esima\n",
    "\n",
    "        # Actualizar el vector de términos independientes para las variables restantes\n",
    "        for j in range(i + 1, n):\n",
    "            b[j] -= L[j, i] * x[i]\n",
    "\n",
    "    return x, null_space_basis"
   ]
  },
  {
   "cell_type": "code",
   "execution_count": 7,
   "metadata": {},
   "outputs": [
    {
     "name": "stdout",
     "output_type": "stream",
     "text": [
      "La solución del sistema es: [ 2.          1.         -1.16666667]\n"
     ]
    }
   ],
   "source": [
    "# Ejemplo de uso:\n",
    "L = np.array([[2, 0, 0],\n",
    "              [1, 3, 0],\n",
    "              [4, 5, 6]])\n",
    "\n",
    "b = np.array([4, 5, 6])\n",
    "\n",
    "x, null_space_basis = forward_substitution(L, b)\n",
    "\n",
    "if null_space_basis is None:\n",
    "    print(\"La solución del sistema es:\", x)\n",
    "else:\n",
    "    print(\"El sistema tiene infinitas soluciones.\")\n",
    "    print(\"Una solución particular es:\", x)\n",
    "    print(\"Una base para el espacio nulo de L es:\")\n",
    "    print(null_space_basis)"
   ]
  },
  {
   "cell_type": "code",
   "execution_count": 5,
   "metadata": {},
   "outputs": [
    {
     "name": "stdout",
     "output_type": "stream",
     "text": [
      "Solución del sistema: [ 2.          1.66666667 -1.38888889]\n"
     ]
    }
   ],
   "source": [
    "# Ejemplo de uso\n",
    "L = np.array([[2, 0, 0],\n",
    "              [1, 3, 0],\n",
    "              [4, 5, 6]])\n",
    "\n",
    "b = np.array([4, 7, 8])\n",
    "\n",
    "solucion = sustitucion_hacia_adelante(L, b)\n",
    "print(\"Solución del sistema:\", solucion)"
   ]
  }
 ],
 "metadata": {
  "kernelspec": {
   "display_name": "Python 3",
   "language": "python",
   "name": "python3"
  },
  "language_info": {
   "codemirror_mode": {
    "name": "ipython",
    "version": 3
   },
   "file_extension": ".py",
   "mimetype": "text/x-python",
   "name": "python",
   "nbconvert_exporter": "python",
   "pygments_lexer": "ipython3",
   "version": "3.10.7"
  }
 },
 "nbformat": 4,
 "nbformat_minor": 2
}
