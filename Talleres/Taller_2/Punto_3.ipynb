{
 "cells": [
  {
   "cell_type": "markdown",
   "metadata": {},
   "source": [
    "## Punto 3"
   ]
  },
  {
   "cell_type": "code",
   "execution_count": 127,
   "metadata": {},
   "outputs": [],
   "source": [
    "import numpy as np"
   ]
  },
  {
   "cell_type": "code",
   "execution_count": 128,
   "metadata": {},
   "outputs": [],
   "source": [
    "def sustitucion_hacia_adelante(L, b):\n",
    "    n = L.shape[0]  # Tamaño de la matriz L\n",
    "    x = np.zeros(n)  # Inicializar el vector de solución\n",
    "\n",
    "    base_espacio_nulo = None\n",
    "\n",
    "    for i in range(n):\n",
    "        if L[i, i] == 0:\n",
    "            # Si un elemento diagonal es cero, el sistema tiene infinitas soluciones.\n",
    "            # En este caso, encontramos una solución particular y una base para el espacio nulo.\n",
    "            _, _, V = np.linalg.svd(L)\n",
    "            base_espacio_nulo = V.T[:, -1]\n",
    "            return x, base_espacio_nulo\n",
    "\n",
    "        x[i] = b[i] / L[i, i]  # Calcular el valor de la variable i-esima\n",
    "\n",
    "        # Actualizar el vector de términos independientes para las variables restantes\n",
    "        for j in range(i + 1, n):\n",
    "            b[j] -= L[j, i] * x[i]\n",
    "\n",
    "    return x, base_espacio_nulo"
   ]
  },
  {
   "cell_type": "markdown",
   "metadata": {},
   "source": [
    "Definir matriz L y vector b:"
   ]
  },
  {
   "cell_type": "code",
   "execution_count": 135,
   "metadata": {},
   "outputs": [
    {
     "name": "stdout",
     "output_type": "stream",
     "text": [
      "La solución del sistema es: [ 2.   1.  -1.4]\n"
     ]
    }
   ],
   "source": [
    "#Ejemplo con infinitas soluciones (tiene ceros en la diagonal):\n",
    "#L = np.array([[1, 0, 0],\n",
    "#              [2, 4, 0],\n",
    "#              [3, 6, 0]])\n",
    "#\n",
    "#b = np.array([5, 10, 15])\n",
    "\n",
    "#Ejemplo con unica soucion:\n",
    "L = np.array([[2, 0, 0],\n",
    "              [1, 3, 0],\n",
    "              [4, 5, 5]])\n",
    "\n",
    "b = np.array([4, 5, 6])\n",
    "\n",
    "\n",
    "x, base_espacio_nulo = sustitucion_hacia_adelante(L, b)\n",
    "if base_espacio_nulo is None:\n",
    "    print(\"La solución del sistema es:\", x)\n",
    "else:\n",
    "    print(\"El sistema tiene infinitas soluciones.\")\n",
    "    print(\"Una solución particular es:\", x)\n",
    "    print(\"Una base para el espacio nulo de L es:\")\n",
    "    print(base_espacio_nulo)"
   ]
  },
  {
   "cell_type": "markdown",
   "metadata": {},
   "source": [
    "En un sistema lineal **Lx=b**, donde **L** es una matriz triangular inferior, siempre se dará un resultado con una única solución, mientras que no haya ceros en la diagonal. Esto se debe a que la estructura de la matriz hace que la variable de la primera ecuación sea independiente de las demás, resultando en una solución única.\n",
    "\n",
    "Por otro lado, si hay ceros en la diagonal, el sistema puede tener infinitas soluciones o ninguna dependiendo del vector **b**. "
   ]
  }
 ],
 "metadata": {
  "kernelspec": {
   "display_name": "Python 3",
   "language": "python",
   "name": "python3"
  },
  "language_info": {
   "codemirror_mode": {
    "name": "ipython",
    "version": 3
   },
   "file_extension": ".py",
   "mimetype": "text/x-python",
   "name": "python",
   "nbconvert_exporter": "python",
   "pygments_lexer": "ipython3",
   "version": "3.10.7"
  }
 },
 "nbformat": 4,
 "nbformat_minor": 2
}
