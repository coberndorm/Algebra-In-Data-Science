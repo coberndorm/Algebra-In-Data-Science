{
 "cells": [
  {
   "cell_type": "code",
   "execution_count": 28,
   "metadata": {},
   "outputs": [],
   "source": [
    "import numpy as np\n",
    "import matplotlib.pyplot as plt"
   ]
  },
  {
   "cell_type": "code",
   "execution_count": 29,
   "metadata": {},
   "outputs": [
    {
     "name": "stdout",
     "output_type": "stream",
     "text": [
      "16.881943016134134\n",
      "16.881943016134134\n"
     ]
    }
   ],
   "source": [
    "A = np.array([[1,2,3],\n",
    "              [4,5,6],\n",
    "              [7,8,9]])\n",
    "\n",
    "print((np.trace(np.dot(A.T,A)))** (1/2))\n",
    "print(np.linalg.norm(A, 'fro'))"
   ]
  },
  {
   "cell_type": "markdown",
   "metadata": {},
   "source": [
    "Problema 4\n",
    "1. Sea $H_n(i, j)=\\frac{1}{i+j-1}$, llamada la matriz de Hilbert. Simule 1000 datos normales con matriz de covarianza $H_n$. Estime la matriz de covarianzas desde los datos simulados. Realice una gráfica de $n$ en el eje $x$ con el número condición de la matriz de covarianza estimada en el eje y. Recuerde que el número de condición es $\\|A\\|\\left\\|A^{-1}\\right\\|$. ¿Que tipo de comportamiento observa?"
   ]
  },
  {
   "cell_type": "code",
   "execution_count": 30,
   "metadata": {},
   "outputs": [],
   "source": [
    "def hilbert_estimated_cov_condition_num(dim = 3):\n",
    "\n",
    "    #Norma de frobenius\n",
    "    frob = lambda A: np.trace(np.dot(A.T,A))**(1/2)\n",
    "\n",
    "    #Matriz de Hilbert de orden n\n",
    "    H = np.array([[1/(i+j+1) for j in range(dim)] for i in range(dim)])\n",
    "\n",
    "    # Definir el vector de medias\n",
    "    mean = np.array([0]*dim)\n",
    "\n",
    "    # Numero de muestras\n",
    "    num_samples = 1000\n",
    "\n",
    "    # Generar \n",
    "    data_samples = np.random.multivariate_normal(mean, H, num_samples)\n",
    "\n",
    "    # Calucular la matriz de covarianza\n",
    "    cov = np.cov(data_samples.T)\n",
    "\n",
    "    # Calcular el numero condicion\n",
    "    A_inv = np.linalg.inv(cov)\n",
    "    condition_num = frob(A)*frob(A_inv)\n",
    "\n",
    "    return condition_num"
   ]
  },
  {
   "cell_type": "code",
   "execution_count": 40,
   "metadata": {},
   "outputs": [
    {
     "data": {
      "image/png": "[encoded data removed]",
      "text/plain": [
       "<Figure size 640x480 with 1 Axes>"
      ]
     },
     "metadata": {},
     "output_type": "display_data"
    }
   ],
   "source": [
    "n=11\n",
    "for i in range(2,n):\n",
    "    cond_num = hilbert_estimated_cov_condition_num(i)\n",
    "    plt.plot(i,cond_num, \"o\")"
   ]
  },
  {
   "cell_type": "markdown",
   "metadata": {},
   "source": [
    "2. Considere $x=[123456789101112131415]$. Defina $b=H_{15} x y$ resuelva numéricamente el sistema con la forma $x=H^{-1} b$. ¿Qué conclusión obtiene? Busque alternativas para resolver el problema observado."
   ]
  }
 ],
 "metadata": {
  "kernelspec": {
   "display_name": ".venv",
   "language": "python",
   "name": "python3"
  },
  "language_info": {
   "codemirror_mode": {
    "name": "ipython",
    "version": 3
   },
   "file_extension": ".py",
   "mimetype": "text/x-python",
   "name": "python",
   "nbconvert_exporter": "python",
   "pygments_lexer": "ipython3",
   "version": "3.10.12"
  }
 },
 "nbformat": 4,
 "nbformat_minor": 2
}
