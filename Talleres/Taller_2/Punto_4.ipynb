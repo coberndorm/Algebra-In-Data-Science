{
 "cells": [
  {
   "cell_type": "code",
   "execution_count": 80,
   "metadata": {},
   "outputs": [],
   "source": [
    "import numpy as np\n",
    "import matplotlib.pyplot as plt"
   ]
  },
  {
   "cell_type": "markdown",
   "metadata": {},
   "source": [
    "Problema 4\n",
    "1. Sea $H_n(i, j)=\\frac{1}{i+j-1}$, llamada la matriz de Hilbert. Simule 1000 datos normales con matriz de covarianza $H_n$. Estime la matriz de covarianzas desde los datos simulados. Realice una gráfica de $n$ en el eje $x$ con el número condición de la matriz de covarianza estimada en el eje y. Recuerde que el número de condición es $\\|A\\|\\left\\|A^{-1}\\right\\|$. ¿Que tipo de comportamiento observa?"
   ]
  },
  {
   "cell_type": "code",
   "execution_count": 81,
   "metadata": {},
   "outputs": [],
   "source": [
    "def hilbert_estimated_condition_num(dim = 3):\n",
    "\n",
    "    #Norma de frobenius\n",
    "    frob = lambda A: np.trace(np.dot(A.T,A))**(1/2)\n",
    "\n",
    "    #Matriz de Hilbert de orden n\n",
    "    H = np.array([[1/(i+j+1) for j in range(dim)] for i in range(dim)])\n",
    "\n",
    "    # Definir el vector de medias\n",
    "    mean = np.array([0]*dim)\n",
    "\n",
    "    # Numero de muestras\n",
    "    num_samples = 1000\n",
    "\n",
    "    # Generar datos con la matriz de hilbert como la matriz de covarianza\n",
    "    data_samples = np.random.multivariate_normal(mean, H, num_samples)\n",
    "\n",
    "    # Calucular la matriz de covarianza\n",
    "    hilbert_est = np.cov(data_samples.T)\n",
    "\n",
    "    # Calcular el numero condicion\n",
    "    H_inv = np.linalg.inv(hilbert_est)\n",
    "    condition_num = frob(H)*frob(H_inv)\n",
    "\n",
    "    return condition_num"
   ]
  },
  {
   "cell_type": "code",
   "execution_count": 82,
   "metadata": {},
   "outputs": [
    {
     "data": {
      "text/plain": [
       "547.4358198639418"
      ]
     },
     "execution_count": 82,
     "metadata": {},
     "output_type": "execute_result"
    }
   ],
   "source": [
    "hilbert_estimated_condition_num(3)"
   ]
  },
  {
   "cell_type": "code",
   "execution_count": 83,
   "metadata": {},
   "outputs": [
    {
     "data": {
      "text/plain": [
       "524.0567775860644"
      ]
     },
     "execution_count": 83,
     "metadata": {},
     "output_type": "execute_result"
    }
   ],
   "source": [
    "np.linalg.cond(np.array([[1/(i+j+1) for j in range(3)] for i in range(3)]))"
   ]
  },
  {
   "cell_type": "markdown",
   "metadata": {},
   "source": [
    "Al plottear el numero condicion contra el numero de dimensiones, se observa como explota instantaneamente los valores del numero de condicion. Esta mal condicionado y por esto es que el numero de condicion explota tan rapido."
   ]
  },
  {
   "cell_type": "code",
   "execution_count": 85,
   "metadata": {},
   "outputs": [
    {
     "data": {
      "text/plain": [
       "[<matplotlib.lines.Line2D at 0x7f23b7376a10>]"
      ]
     },
     "execution_count": 85,
     "metadata": {},
     "output_type": "execute_result"
    },
    {
     "data": {
      "image/png": "[encoded data removed]",
      "text/plain": [
       "<Figure size 640x480 with 1 Axes>"
      ]
     },
     "metadata": {},
     "output_type": "display_data"
    }
   ],
   "source": [
    "n=11\n",
    "cond_num = [hilbert_estimated_condition_num(i) for i in range(2,n)]\n",
    "x_axis = list(range(2,n))\n",
    "plt.plot(x_axis,cond_num)"
   ]
  },
  {
   "cell_type": "markdown",
   "metadata": {},
   "source": [
    "2. Considere $x=[1,2,3,4,5,6,7,8,9,10,11,12,13,14,15]$. Defina $b=H_{15}\\cdot x$ y resuelva numéricamente el sistema con la forma $x=H^{-1} b$. ¿Qué conclusión obtiene? Busque alternativas para resolver el problema observado."
   ]
  },
  {
   "cell_type": "code",
   "execution_count": 93,
   "metadata": {},
   "outputs": [
    {
     "data": {
      "text/plain": [
       "array([ 2.90781948e+00,  1.97068466e+02, -6.24049805e+02,  5.84859375e+02,\n",
       "       -1.25225000e+03,  4.75100000e+03, -7.84800000e+03,  6.35200000e+03,\n",
       "       -2.33600000e+03, -6.40000000e+01,  3.84000000e+02, -1.44000000e+02,\n",
       "        5.60000000e+01, -2.00000000e+00,  1.92656250e+01])"
      ]
     },
     "execution_count": 93,
     "metadata": {},
     "output_type": "execute_result"
    }
   ],
   "source": [
    "# Definiendo la matriz de Hilbert de orden 15 y x\n",
    "H = np.array([[1/(i+j+1) for j in range(15)] for i in range(15)])\n",
    "x = np.arange(1,16)\n",
    "\n",
    "# Definiendo b\n",
    "b = np.dot(H,x)\n",
    "\n",
    "# Matriz de Hilbert inversa\n",
    "H_inv = np.linalg.inv(H)\n",
    "\n",
    "x_est = np.dot(H_inv,b)\n",
    "x_est"
   ]
  },
  {
   "cell_type": "markdown",
   "metadata": {},
   "source": [
    "Se ve que la matriz esta mal condicionada y que esta mal condicion aumenta cada vez mas a medida que $n$ crece. Esto se puede entender como que a mayor $n$ mas duro sera resolver un sistema de ecuaciones tomando a esta matriz como base. Tambien se nota que a medida que n crece calcularle la inversa cada vez va a ser mas dificil y menos precisa, dada a la inestabilidad que aperece en que pequeños errores (ya sea de redondeo o de otro tipo) o perturbaciones a la matriz le pueden causargrandes errores.\n",
    "\n",
    "Principalmente se va a observar que al trabajar con esta matriz va a haber mucha inestabilidad al momento de realizar algun algoritmo.\n",
    "\n",
    "Dado a que la matriz de hilbert esta mal condicionada, la inversa no se logra calcular completamente bien, esto se observa al multiplicar H por su inversa, veamos un ejemplo en menores dimensiones:"
   ]
  },
  {
   "cell_type": "code",
   "execution_count": 94,
   "metadata": {},
   "outputs": [
    {
     "name": "stdout",
     "output_type": "stream",
     "text": [
      "[[ 9.99999959e-01 -3.54942290e-08 -3.15311938e-08 -2.83492451e-08\n",
      "  -2.57293670e-08 -2.35542436e-08 -2.17137870e-08 -2.01369836e-08]\n",
      " [ 1.93540473e-07  1.00000017e+00  1.44405927e-07  1.28318125e-07\n",
      "   1.15140820e-07  1.04748041e-07  9.60312097e-08  8.85932732e-08]\n",
      " [-1.76019967e-07 -1.43183628e-07  9.99999879e-01 -1.07877623e-07\n",
      "  -9.15552376e-08 -8.21583937e-08 -7.57484733e-08 -6.81368053e-08]\n",
      " [-5.96046448e-08 -6.59052985e-08 -7.55407402e-08  9.99999949e-01\n",
      "  -6.80554253e-08 -5.25203262e-08 -3.97067702e-08 -4.45309945e-08]\n",
      " [-1.19209290e-07 -5.26258758e-08 -7.03558852e-08 -8.00700590e-08\n",
      "   9.99999990e-01 -7.07404377e-08 -6.15045052e-08 -5.40874811e-08]\n",
      " [ 2.68220901e-07  1.60287402e-07  1.44823865e-07  1.89102272e-07\n",
      "   7.55120679e-08  1.00000013e+00  1.16878694e-07  8.51378712e-08]\n",
      " [-1.49011612e-07 -1.08772455e-07 -7.49582600e-08 -8.96126281e-08\n",
      "  -3.68758580e-08 -6.39645374e-08  9.99999941e-01 -4.46280746e-08]\n",
      " [ 3.72529030e-08  1.38114195e-08  1.14115803e-08  2.16122256e-08\n",
      "   1.04533890e-09  1.03542231e-08  1.39345208e-08  1.00000001e+00]]\n"
     ]
    }
   ],
   "source": [
    "dim = 8\n",
    "H = np.array([[1/(i+j+1) for j in range(dim)] for i in range(dim)])\n",
    "H_inv = np.linalg.inv(H)\n",
    "print(np.dot(H_inv,H))"
   ]
  },
  {
   "cell_type": "markdown",
   "metadata": {},
   "source": [
    "Por tanto para calcular a x otra vez, toca hacerlo a traves de algun otro metodo que no utilice muchos pasos para introducir la menor cantidad de error pero lo mas probable es que no se vaya a poder recalcuralo perfectamente sin algun error o sin una estructura de datos que sea capaz de almacenar mas informacion sobre cada numero como un long."
   ]
  },
  {
   "cell_type": "markdown",
   "metadata": {},
   "source": [
    "Se intento calcularlo tambien por descomposicion QR y no se pudo, dado que al momento de calcular Q ya habian errores numericos."
   ]
  },
  {
   "cell_type": "code",
   "execution_count": 95,
   "metadata": {},
   "outputs": [],
   "source": [
    "# Función para calcular la norma \\(p\\) de un vector \\(x\\)\n",
    "def lp(x: np.ndarray, p=1) -> float:\n",
    "    if p == \"inf\":\n",
    "        return np.max(np.abs(x))\n",
    "    return np.sum(np.abs(x)**p)**(1/p)\n",
    "\n",
    "def qr_normalization(A):\n",
    "    n,m = A.shape\n",
    "    transpose = False\n",
    "    if n>m: \n",
    "        A = A.T\n",
    "        n,m = A.shape\n",
    "        transpose = True\n",
    "\n",
    "    Q = []\n",
    "\n",
    "    for i in range(n):\n",
    "        omega_i = A[i]\n",
    "        for q_i in Q:\n",
    "            omega_i = omega_i - np.dot(np.dot(A[i], q_i), q_i)\n",
    "        \n",
    "        Q.append(omega_i/lp(omega_i, 2))\n",
    "\n",
    "    R = np.zeros((n,n))\n",
    "    for i in range(n):\n",
    "        for j in range(i,n):\n",
    "            R[i,j] = np.dot(A[j],Q[i])\n",
    "\n",
    "    if transpose: \n",
    "        Q = np.array(Q).T\n",
    "    else:\n",
    "        Q = np.array(Q) \n",
    "    \n",
    "    return Q,R\n"
   ]
  },
  {
   "cell_type": "code",
   "execution_count": 115,
   "metadata": {},
   "outputs": [
    {
     "data": {
      "text/plain": [
       "array([  6.796,   7.422,  -9.843,  28.409,   7.227,  -9.756, -11.103,\n",
       "        -3.381,   6.336,  13.938,  17.773,  17.621,  13.951,   7.479,\n",
       "        -1.06 ])"
      ]
     },
     "execution_count": 115,
     "metadata": {},
     "output_type": "execute_result"
    }
   ],
   "source": [
    "def solve_with_orthogonal_matrix(Q, b):\n",
    "    Q_transpose = np.transpose(Q)\n",
    "    x = np.round(np.dot(Q_transpose, b),3)\n",
    "    return x\n",
    "\n",
    "# Definiendo la matriz de Hilbert de orden 15 y x\n",
    "H = np.array([[1/(i+j+1) for j in range(15)] for i in range(15)])\n",
    "x = np.arange(1,16)\n",
    "\n",
    "# Definiendo b\n",
    "b = np.dot(H,x)\n",
    "\n",
    "Q,R = qr_normalization(H)\n",
    "\n",
    "solve_with_orthogonal_matrix(Q,b)"
   ]
  },
  {
   "cell_type": "code",
   "execution_count": 127,
   "metadata": {},
   "outputs": [
    {
     "name": "stdout",
     "output_type": "stream",
     "text": [
      "[-28.9 -16.2   4.6   0.9   0.1   0.   -0.   -0.   -0.   -0.   -0.   -0.\n",
      "  -0.    0.    0. ]\n"
     ]
    }
   ],
   "source": [
    "# COn el algoritmo de qr, de numpy tampoco se logra\n",
    "\n",
    "Q,R = np.linalg.qr(H, mode=\"complete\")\n",
    "print(np.round(solve_with_orthogonal_matrix(Q,b), 1))"
   ]
  }
 ],
 "metadata": {
  "kernelspec": {
   "display_name": ".venv",
   "language": "python",
   "name": "python3"
  },
  "language_info": {
   "codemirror_mode": {
    "name": "ipython",
    "version": 3
   },
   "file_extension": ".py",
   "mimetype": "text/x-python",
   "name": "python",
   "nbconvert_exporter": "python",
   "pygments_lexer": "ipython3",
   "version": "3.10.12"
  }
 },
 "nbformat": 4,
 "nbformat_minor": 2
}
